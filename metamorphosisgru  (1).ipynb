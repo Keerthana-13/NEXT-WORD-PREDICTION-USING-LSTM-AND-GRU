{
 "cells": [
  {
   "cell_type": "markdown",
   "metadata": {
    "id": "LioOT4yFYzf5"
   },
   "source": [
    "# Next Word Prediction:\n",
    "## Metamorphopsis"
   ]
  },
  {
   "cell_type": "markdown",
   "metadata": {
    "id": "s2QGmzekYzf7"
   },
   "source": [
    "### Importing The Required Libraries:"
   ]
  },
  {
   "cell_type": "code",
   "execution_count": 1,
   "metadata": {
    "id": "26XRHKXmYzf8"
   },
   "outputs": [],
   "source": [
    "import tensorflow as tf\n",
    "from keras.preprocessing.text import Tokenizer\n",
    "from tensorflow.keras.layers import Embedding, LSTM,GRU,Dense\n",
    "from tensorflow.keras.models import Sequential\n",
    "from tensorflow.keras.utils import to_categorical\n",
    "from tensorflow.keras.optimizers import Adam\n",
    "import pickle\n",
    "import numpy as np\n",
    "import os"
   ]
  },
  {
   "cell_type": "code",
   "execution_count": 2,
   "metadata": {
    "colab": {
     "base_uri": "https://localhost:8080/"
    },
    "id": "ZaCy7erhYzf-",
    "outputId": "983cca34-678a-4b33-d41a-d5377a47369e"
   },
   "outputs": [
    {
     "name": "stdout",
     "output_type": "stream",
     "text": [
      "The First Line:  One morning, when Gregor Samsa woke from troubled dreams, he found\n",
      "\n",
      "The Last Line:  first to get up and stretch out her young body.\n"
     ]
    }
   ],
   "source": [
    "\"\"\"\n",
    "    Dataset: http://www.gutenberg.org/cache/epub/5200/pg5200.txt\n",
    "    Remove all the unnecessary data and label it as Metamorphosis-clean.\n",
    "    The starting and ending lines should be as follows.\n",
    "\n",
    "\"\"\"\n",
    "\n",
    "\n",
    "file = open(\"C:/Users/Admin/Downloads/metamorphosis_clean.txt\", \"r\", encoding = \"utf8\")\n",
    "lines = []\n",
    "\n",
    "for i in file:\n",
    "    lines.append(i)\n",
    "    \n",
    "print(\"The First Line: \", lines[0])\n",
    "print(\"The Last Line: \", lines[-1])"
   ]
  },
  {
   "cell_type": "markdown",
   "metadata": {
    "id": "XIK6FJzgYzgA"
   },
   "source": [
    "### Cleaning the data:"
   ]
  },
  {
   "cell_type": "code",
   "execution_count": 3,
   "metadata": {
    "colab": {
     "base_uri": "https://localhost:8080/",
     "height": 70
    },
    "id": "ftkvHWw8YzgB",
    "outputId": "d378de2b-4b9d-449c-81f9-41894b4e34a0"
   },
   "outputs": [
    {
     "data": {
      "text/plain": [
       "'One morning, when Gregor Samsa woke from troubled dreams, he found himself transformed in his bed into a horrible vermin.  He lay on his armour-like back, and if he lifted his head a little he could see his brown belly, slightly domed and divided by arches into stiff sections.  The bedding was hardly able to cover it and seemed ready to slide off any moment.'"
      ]
     },
     "execution_count": 3,
     "metadata": {},
     "output_type": "execute_result"
    }
   ],
   "source": [
    "data = \"\"\n",
    "\n",
    "for i in lines:\n",
    "    data = ' '. join(lines)\n",
    "    \n",
    "data = data.replace('\\n', '').replace('\\r', '').replace('\\ufeff', '')\n",
    "data[:360]"
   ]
  },
  {
   "cell_type": "code",
   "execution_count": 4,
   "metadata": {
    "colab": {
     "base_uri": "https://localhost:8080/",
     "height": 88
    },
    "id": "rMWQWM_rYzgB",
    "outputId": "162d05a0-73d1-4261-f67a-8ee85c5538af"
   },
   "outputs": [
    {
     "data": {
      "text/plain": [
       "'One morning  when Gregor Samsa woke from troubled dreams  he found himself transformed in his bed into a horrible vermin   He lay on his armour like back  and if he lifted his head a little he could see his brown belly  slightly domed and divided by arches into stiff sections   The bedding was hardly able to cover it and seemed ready to slide off any moment   His many legs  pitifully thin compared with the size of the rest of him  waved about helplessly as he looked    What s happened to me   he'"
      ]
     },
     "execution_count": 4,
     "metadata": {},
     "output_type": "execute_result"
    }
   ],
   "source": [
    "import string\n",
    "\n",
    "translator = str.maketrans(string.punctuation, ' '*len(string.punctuation)) #map punctuation to space\n",
    "new_data = data.translate(translator)\n",
    "\n",
    "new_data[:500]"
   ]
  },
  {
   "cell_type": "code",
   "execution_count": 5,
   "metadata": {
    "colab": {
     "base_uri": "https://localhost:8080/",
     "height": 88
    },
    "id": "GqAWz6PWYzgC",
    "outputId": "70e36cf9-eb99-4982-e623-268cdab9797e"
   },
   "outputs": [
    {
     "data": {
      "text/plain": [
       "'One morning, when Gregor Samsa woke from troubled dreams, he found himself transformed in his bed into a horrible vermin. He lay on armour-like back, and if lifted head little could see brown belly, slightly domed divided by arches stiff sections. The bedding was hardly able to cover it seemed ready slide off any moment. His many legs, pitifully thin compared with the size of rest him, waved about helplessly as looked. \"What\\'s happened me?\" thought. It wasn\\'t dream. room, proper human room altho'"
      ]
     },
     "execution_count": 5,
     "metadata": {},
     "output_type": "execute_result"
    }
   ],
   "source": [
    "z = []\n",
    "\n",
    "for i in data.split():\n",
    "    if i not in z:\n",
    "        z.append(i)\n",
    "        \n",
    "data = ' '.join(z)\n",
    "data[:500]"
   ]
  },
  {
   "cell_type": "markdown",
   "metadata": {
    "id": "_yGZjCL0YzgC"
   },
   "source": [
    "### Tokenization:"
   ]
  },
  {
   "cell_type": "code",
   "execution_count": 6,
   "metadata": {
    "colab": {
     "base_uri": "https://localhost:8080/"
    },
    "id": "hE6S8DusYzgC",
    "outputId": "55f7e269-32d0-4865-d1bf-788015e26612"
   },
   "outputs": [
    {
     "data": {
      "text/plain": [
       "[17, 53, 293, 2, 18, 729, 135, 730, 294, 8]"
      ]
     },
     "execution_count": 6,
     "metadata": {},
     "output_type": "execute_result"
    }
   ],
   "source": [
    "tokenizer = Tokenizer()\n",
    "tokenizer.fit_on_texts([data])\n",
    "\n",
    "# saving the tokenizer for predict function.\n",
    "pickle.dump(tokenizer, open('tokenizer2.pkl', 'wb'))\n",
    "\n",
    "sequence_data = tokenizer.texts_to_sequences([data])[0]\n",
    "sequence_data[:10]"
   ]
  },
  {
   "cell_type": "code",
   "execution_count": 7,
   "metadata": {
    "colab": {
     "base_uri": "https://localhost:8080/"
    },
    "id": "lKcpEaPKYzgD",
    "outputId": "9835f6a7-0eb7-4166-e017-c11599fc8f00"
   },
   "outputs": [
    {
     "name": "stdout",
     "output_type": "stream",
     "text": [
      "2617\n"
     ]
    }
   ],
   "source": [
    "vocab_size = len(tokenizer.word_index) + 1\n",
    "print(vocab_size)"
   ]
  },
  {
   "cell_type": "code",
   "execution_count": 8,
   "metadata": {
    "colab": {
     "base_uri": "https://localhost:8080/"
    },
    "id": "Dv4ZNCD9YzgE",
    "outputId": "740c50c5-2142-4519-dfce-ac2002dd3315"
   },
   "outputs": [
    {
     "name": "stdout",
     "output_type": "stream",
     "text": [
      "The Length of sequences are:  3889\n"
     ]
    },
    {
     "data": {
      "text/plain": [
       "array([[ 17,  53],\n",
       "       [ 53, 293],\n",
       "       [293,   2],\n",
       "       [  2,  18],\n",
       "       [ 18, 729],\n",
       "       [729, 135],\n",
       "       [135, 730],\n",
       "       [730, 294],\n",
       "       [294,   8],\n",
       "       [  8, 731]])"
      ]
     },
     "execution_count": 8,
     "metadata": {},
     "output_type": "execute_result"
    }
   ],
   "source": [
    "sequences = []\n",
    "\n",
    "for i in range(1, len(sequence_data)):\n",
    "    words = sequence_data[i-1:i+1]\n",
    "    sequences.append(words)\n",
    "    \n",
    "print(\"The Length of sequences are: \", len(sequences))\n",
    "sequences = np.array(sequences)\n",
    "sequences[:10]"
   ]
  },
  {
   "cell_type": "code",
   "execution_count": 9,
   "metadata": {
    "id": "pw4kd5phYzgF"
   },
   "outputs": [],
   "source": [
    "X = []\n",
    "y = []\n",
    "\n",
    "for i in sequences:\n",
    "    X.append(i[0])\n",
    "    y.append(i[1])\n",
    "    \n",
    "X = np.array(X)\n",
    "y = np.array(y)"
   ]
  },
  {
   "cell_type": "code",
   "execution_count": 10,
   "metadata": {
    "colab": {
     "base_uri": "https://localhost:8080/"
    },
    "id": "hg5WVVhQYzgF",
    "outputId": "3571ba03-a5dd-4113-aac7-52becb78975f"
   },
   "outputs": [
    {
     "name": "stdout",
     "output_type": "stream",
     "text": [
      "The Data is:  [ 17  53 293   2  18]\n",
      "The responses are:  [ 53 293   2  18 729]\n"
     ]
    }
   ],
   "source": [
    "print(\"The Data is: \", X[:5])\n",
    "print(\"The responses are: \", y[:5])"
   ]
  },
  {
   "cell_type": "code",
   "execution_count": 11,
   "metadata": {
    "colab": {
     "base_uri": "https://localhost:8080/"
    },
    "id": "dkUuhaEjYzgG",
    "outputId": "3eaf58b9-18b4-41a0-e858-0e82a80be90f"
   },
   "outputs": [
    {
     "data": {
      "text/plain": [
       "array([[0., 0., 0., ..., 0., 0., 0.],\n",
       "       [0., 0., 0., ..., 0., 0., 0.],\n",
       "       [0., 0., 1., ..., 0., 0., 0.],\n",
       "       [0., 0., 0., ..., 0., 0., 0.],\n",
       "       [0., 0., 0., ..., 0., 0., 0.]], dtype=float32)"
      ]
     },
     "execution_count": 11,
     "metadata": {},
     "output_type": "execute_result"
    }
   ],
   "source": [
    "y = to_categorical(y, num_classes=vocab_size)\n",
    "y[:5]"
   ]
  },
  {
   "cell_type": "markdown",
   "metadata": {
    "id": "dcw1UgR3YzgG"
   },
   "source": [
    "### Creating the Model:"
   ]
  },
  {
   "cell_type": "code",
   "execution_count": 12,
   "metadata": {
    "id": "wHJIxHYIYzgH"
   },
   "outputs": [],
   "source": [
    "model = Sequential()\n",
    "model.add(Embedding(vocab_size, 10, input_length=1))\n",
    "model.add(GRU(1000, return_sequences=True))\n",
    "model.add(GRU(1000))\n",
    "model.add(Dense(1000, activation=\"tanh\"))\n",
    "model.add(Dense(vocab_size, activation=\"softmax\"))"
   ]
  },
  {
   "cell_type": "code",
   "execution_count": 13,
   "metadata": {
    "id": "mQXcNxx_YzgH",
    "outputId": "8783059b-3e77-44c4-fdad-2434a23127da",
    "scrolled": true
   },
   "outputs": [
    {
     "name": "stdout",
     "output_type": "stream",
     "text": [
      "Model: \"sequential\"\n",
      "_________________________________________________________________\n",
      " Layer (type)                Output Shape              Param #   \n",
      "=================================================================\n",
      " embedding (Embedding)       (None, 1, 10)             26170     \n",
      "                                                                 \n",
      " gru (GRU)                   (None, 1, 1000)           3036000   \n",
      "                                                                 \n",
      " gru_1 (GRU)                 (None, 1000)              6006000   \n",
      "                                                                 \n",
      " dense (Dense)               (None, 1000)              1001000   \n",
      "                                                                 \n",
      " dense_1 (Dense)             (None, 2617)              2619617   \n",
      "                                                                 \n",
      "=================================================================\n",
      "Total params: 12,688,787\n",
      "Trainable params: 12,688,787\n",
      "Non-trainable params: 0\n",
      "_________________________________________________________________\n"
     ]
    }
   ],
   "source": [
    "model.summary()"
   ]
  },
  {
   "cell_type": "code",
   "execution_count": 14,
   "metadata": {},
   "outputs": [
    {
     "name": "stdout",
     "output_type": "stream",
     "text": [
      "Requirement already satisfied: pydot in c:\\users\\admin\\anaconda3\\lib\\site-packages (1.4.2)\n",
      "Requirement already satisfied: pyparsing>=2.1.4 in c:\\users\\admin\\anaconda3\\lib\\site-packages (from pydot) (3.0.4)\n"
     ]
    }
   ],
   "source": [
    "!pip install pydot"
   ]
  },
  {
   "cell_type": "code",
   "execution_count": 15,
   "metadata": {},
   "outputs": [
    {
     "name": "stdout",
     "output_type": "stream",
     "text": [
      "Requirement already satisfied: graphviz in c:\\users\\admin\\anaconda3\\lib\\site-packages (0.20.1)Note: you may need to restart the kernel to use updated packages.\n",
      "\n"
     ]
    }
   ],
   "source": [
    "pip install graphviz"
   ]
  },
  {
   "cell_type": "markdown",
   "metadata": {
    "id": "xMpP5WicYzgH"
   },
   "source": [
    "### Plot The Model:"
   ]
  },
  {
   "cell_type": "code",
   "execution_count": 14,
   "metadata": {
    "colab": {
     "base_uri": "https://localhost:8080/",
     "height": 564
    },
    "id": "fZ7G20NJYzgH",
    "outputId": "558d2b27-7c98-4f2e-964d-8b98780ac1e0"
   },
   "outputs": [
    {
     "name": "stdout",
     "output_type": "stream",
     "text": [
      "You must install pydot (`pip install pydot`) and install graphviz (see instructions at https://graphviz.gitlab.io/download/) for plot_model to work.\n"
     ]
    }
   ],
   "source": [
    "import pydot\n",
    "import graphviz\n",
    "from tensorflow import keras\n",
    "from keras.utils.vis_utils import plot_model\n",
    "\n",
    "keras.utils.plot_model(model, to_file='model.png', show_layer_names=True)"
   ]
  },
  {
   "cell_type": "markdown",
   "metadata": {
    "id": "fiTtJ7o4YzgI"
   },
   "source": [
    "### Callbacks:"
   ]
  },
  {
   "cell_type": "code",
   "execution_count": 15,
   "metadata": {
    "id": "K4oEesXZYzgI"
   },
   "outputs": [],
   "source": [
    "from tensorflow.keras.callbacks import ModelCheckpoint\n",
    "from tensorflow.keras.callbacks import ReduceLROnPlateau\n",
    "from tensorflow.keras.callbacks import TensorBoard\n",
    "\n",
    "checkpoint = ModelCheckpoint(\"nextword2.h5\", monitor='loss', verbose=1,\n",
    "    save_best_only=True, mode='auto')\n",
    "\n",
    "reduce = ReduceLROnPlateau(monitor='loss', factor=0.2, patience=3, min_lr=0.0001, verbose = 1)\n",
    "\n",
    "logdir='logsnextword1'\n",
    "tensorboard_Visualization = TensorBoard(log_dir=logdir)"
   ]
  },
  {
   "cell_type": "markdown",
   "metadata": {
    "id": "AB8_eIn8YzgI"
   },
   "source": [
    "### Compile The Model:"
   ]
  },
  {
   "cell_type": "code",
   "execution_count": 16,
   "metadata": {
    "colab": {
     "base_uri": "https://localhost:8080/"
    },
    "id": "m-u0OU-pYzgI",
    "outputId": "ed06a38b-63d5-4494-e8e2-c82d563c2e87"
   },
   "outputs": [
    {
     "name": "stderr",
     "output_type": "stream",
     "text": [
      "C:\\Users\\Admin\\anaconda3\\lib\\site-packages\\keras\\optimizers\\optimizer_v2\\adam.py:114: UserWarning: The `lr` argument is deprecated, use `learning_rate` instead.\n",
      "  super().__init__(name, **kwargs)\n"
     ]
    }
   ],
   "source": [
    "model.compile(loss=\"categorical_crossentropy\", optimizer=Adam(lr=0.001),metrics=\"accuracy\")"
   ]
  },
  {
   "cell_type": "code",
   "execution_count": 17,
   "metadata": {},
   "outputs": [
    {
     "name": "stdout",
     "output_type": "stream",
     "text": [
      "Epoch 1/50\n",
      "61/61 [==============================] - ETA: 0s - loss: 7.8690 - accuracy: 0.0000e+00\n",
      "Epoch 1: loss improved from inf to 7.86903, saving model to nextword2.h5\n",
      "61/61 [==============================] - 13s 129ms/step - loss: 7.8690 - accuracy: 0.0000e+00 - lr: 0.0010\n",
      "Epoch 2/50\n",
      "61/61 [==============================] - ETA: 0s - loss: 7.8614 - accuracy: 0.0013\n",
      "Epoch 2: loss improved from 7.86903 to 7.86136, saving model to nextword2.h5\n",
      "61/61 [==============================] - 5s 87ms/step - loss: 7.8614 - accuracy: 0.0013 - lr: 0.0010\n",
      "Epoch 3/50\n",
      "61/61 [==============================] - ETA: 0s - loss: 7.7687 - accuracy: 0.0013\n",
      "Epoch 3: loss improved from 7.86136 to 7.76873, saving model to nextword2.h5\n",
      "61/61 [==============================] - 6s 90ms/step - loss: 7.7687 - accuracy: 0.0013 - lr: 0.0010\n",
      "Epoch 4/50\n",
      "61/61 [==============================] - ETA: 0s - loss: 7.4753 - accuracy: 0.0036\n",
      "Epoch 4: loss improved from 7.76873 to 7.47531, saving model to nextword2.h5\n",
      "61/61 [==============================] - 5s 88ms/step - loss: 7.4753 - accuracy: 0.0036 - lr: 0.0010\n",
      "Epoch 5/50\n",
      "61/61 [==============================] - ETA: 0s - loss: 7.0093 - accuracy: 0.0090\n",
      "Epoch 5: loss improved from 7.47531 to 7.00927, saving model to nextword2.h5\n",
      "61/61 [==============================] - 5s 87ms/step - loss: 7.0093 - accuracy: 0.0090 - lr: 0.0010\n",
      "Epoch 6/50\n",
      "61/61 [==============================] - ETA: 0s - loss: 6.5151 - accuracy: 0.0131\n",
      "Epoch 6: loss improved from 7.00927 to 6.51513, saving model to nextword2.h5\n",
      "61/61 [==============================] - 5s 88ms/step - loss: 6.5151 - accuracy: 0.0131 - lr: 0.0010\n",
      "Epoch 7/50\n",
      "61/61 [==============================] - ETA: 0s - loss: 5.9221 - accuracy: 0.0206\n",
      "Epoch 7: loss improved from 6.51513 to 5.92210, saving model to nextword2.h5\n",
      "61/61 [==============================] - 6s 92ms/step - loss: 5.9221 - accuracy: 0.0206 - lr: 0.0010\n",
      "Epoch 8/50\n",
      "61/61 [==============================] - ETA: 0s - loss: 5.1712 - accuracy: 0.0543\n",
      "Epoch 8: loss improved from 5.92210 to 5.17116, saving model to nextword2.h5\n",
      "61/61 [==============================] - 5s 90ms/step - loss: 5.1712 - accuracy: 0.0543 - lr: 0.0010\n",
      "Epoch 9/50\n",
      "61/61 [==============================] - ETA: 0s - loss: 4.2628 - accuracy: 0.1329\n",
      "Epoch 9: loss improved from 5.17116 to 4.26285, saving model to nextword2.h5\n",
      "61/61 [==============================] - 6s 103ms/step - loss: 4.2628 - accuracy: 0.1329 - lr: 0.0010\n",
      "Epoch 10/50\n",
      "61/61 [==============================] - ETA: 0s - loss: 3.4364 - accuracy: 0.2319\n",
      "Epoch 10: loss improved from 4.26285 to 3.43639, saving model to nextword2.h5\n",
      "61/61 [==============================] - 5s 87ms/step - loss: 3.4364 - accuracy: 0.2319 - lr: 0.0010\n",
      "Epoch 11/50\n",
      "61/61 [==============================] - ETA: 0s - loss: 2.7873 - accuracy: 0.3590\n",
      "Epoch 11: loss improved from 3.43639 to 2.78732, saving model to nextword2.h5\n",
      "61/61 [==============================] - 5s 86ms/step - loss: 2.7873 - accuracy: 0.3590 - lr: 0.0010\n",
      "Epoch 12/50\n",
      "61/61 [==============================] - ETA: 0s - loss: 2.3297 - accuracy: 0.4569\n",
      "Epoch 12: loss improved from 2.78732 to 2.32969, saving model to nextword2.h5\n",
      "61/61 [==============================] - 5s 86ms/step - loss: 2.3297 - accuracy: 0.4569 - lr: 0.0010\n",
      "Epoch 13/50\n",
      "61/61 [==============================] - ETA: 0s - loss: 2.0113 - accuracy: 0.5351\n",
      "Epoch 13: loss improved from 2.32969 to 2.01133, saving model to nextword2.h5\n",
      "61/61 [==============================] - 5s 86ms/step - loss: 2.0113 - accuracy: 0.5351 - lr: 0.0010\n",
      "Epoch 14/50\n",
      "61/61 [==============================] - ETA: 0s - loss: 1.7998 - accuracy: 0.5554\n",
      "Epoch 14: loss improved from 2.01133 to 1.79984, saving model to nextword2.h5\n",
      "61/61 [==============================] - 6s 91ms/step - loss: 1.7998 - accuracy: 0.5554 - lr: 0.0010\n",
      "Epoch 15/50\n",
      "61/61 [==============================] - ETA: 0s - loss: 1.6388 - accuracy: 0.5683\n",
      "Epoch 15: loss improved from 1.79984 to 1.63875, saving model to nextword2.h5\n",
      "61/61 [==============================] - 6s 91ms/step - loss: 1.6388 - accuracy: 0.5683 - lr: 0.0010\n",
      "Epoch 16/50\n",
      "61/61 [==============================] - ETA: 0s - loss: 1.5486 - accuracy: 0.5675\n",
      "Epoch 16: loss improved from 1.63875 to 1.54865, saving model to nextword2.h5\n",
      "61/61 [==============================] - 6s 89ms/step - loss: 1.5486 - accuracy: 0.5675 - lr: 0.0010\n",
      "Epoch 17/50\n",
      "61/61 [==============================] - ETA: 0s - loss: 1.4887 - accuracy: 0.5683\n",
      "Epoch 17: loss improved from 1.54865 to 1.48872, saving model to nextword2.h5\n",
      "61/61 [==============================] - 6s 90ms/step - loss: 1.4887 - accuracy: 0.5683 - lr: 0.0010\n",
      "Epoch 18/50\n",
      "61/61 [==============================] - ETA: 0s - loss: 1.4422 - accuracy: 0.5744\n",
      "Epoch 18: loss improved from 1.48872 to 1.44223, saving model to nextword2.h5\n",
      "61/61 [==============================] - 5s 89ms/step - loss: 1.4422 - accuracy: 0.5744 - lr: 0.0010\n",
      "Epoch 19/50\n",
      "61/61 [==============================] - ETA: 0s - loss: 1.3902 - accuracy: 0.5703\n",
      "Epoch 19: loss improved from 1.44223 to 1.39024, saving model to nextword2.h5\n",
      "61/61 [==============================] - 5s 90ms/step - loss: 1.3902 - accuracy: 0.5703 - lr: 0.0010\n",
      "Epoch 20/50\n",
      "61/61 [==============================] - ETA: 0s - loss: 1.3396 - accuracy: 0.5780\n",
      "Epoch 20: loss improved from 1.39024 to 1.33963, saving model to nextword2.h5\n",
      "61/61 [==============================] - 5s 90ms/step - loss: 1.3396 - accuracy: 0.5780 - lr: 0.0010\n",
      "Epoch 21/50\n",
      "61/61 [==============================] - ETA: 0s - loss: 1.3327 - accuracy: 0.5721\n",
      "Epoch 21: loss improved from 1.33963 to 1.33272, saving model to nextword2.h5\n",
      "61/61 [==============================] - 6s 92ms/step - loss: 1.3327 - accuracy: 0.5721 - lr: 0.0010\n",
      "Epoch 22/50\n",
      "61/61 [==============================] - ETA: 0s - loss: 1.2885 - accuracy: 0.5819\n",
      "Epoch 22: loss improved from 1.33272 to 1.28854, saving model to nextword2.h5\n",
      "61/61 [==============================] - 5s 88ms/step - loss: 1.2885 - accuracy: 0.5819 - lr: 0.0010\n",
      "Epoch 23/50\n",
      "61/61 [==============================] - ETA: 0s - loss: 1.3038 - accuracy: 0.5739\n",
      "Epoch 23: loss did not improve from 1.28854\n",
      "61/61 [==============================] - 5s 86ms/step - loss: 1.3038 - accuracy: 0.5739 - lr: 0.0010\n",
      "Epoch 24/50\n",
      "61/61 [==============================] - ETA: 0s - loss: 1.2767 - accuracy: 0.5726\n",
      "Epoch 24: loss improved from 1.28854 to 1.27666, saving model to nextword2.h5\n",
      "61/61 [==============================] - 5s 86ms/step - loss: 1.2767 - accuracy: 0.5726 - lr: 0.0010\n",
      "Epoch 25/50\n",
      "61/61 [==============================] - ETA: 0s - loss: 1.2422 - accuracy: 0.5729\n",
      "Epoch 25: loss improved from 1.27666 to 1.24218, saving model to nextword2.h5\n",
      "61/61 [==============================] - 6s 89ms/step - loss: 1.2422 - accuracy: 0.5729 - lr: 0.0010\n",
      "Epoch 26/50\n",
      "61/61 [==============================] - ETA: 0s - loss: 1.2263 - accuracy: 0.5711\n",
      "Epoch 26: loss improved from 1.24218 to 1.22626, saving model to nextword2.h5\n",
      "61/61 [==============================] - 5s 88ms/step - loss: 1.2263 - accuracy: 0.5711 - lr: 0.0010\n",
      "Epoch 27/50\n",
      "61/61 [==============================] - ETA: 0s - loss: 1.2073 - accuracy: 0.5775\n",
      "Epoch 27: loss improved from 1.22626 to 1.20730, saving model to nextword2.h5\n",
      "61/61 [==============================] - 5s 88ms/step - loss: 1.2073 - accuracy: 0.5775 - lr: 0.0010\n",
      "Epoch 28/50\n",
      "61/61 [==============================] - ETA: 0s - loss: 1.1957 - accuracy: 0.5786\n",
      "Epoch 28: loss improved from 1.20730 to 1.19569, saving model to nextword2.h5\n",
      "61/61 [==============================] - 5s 88ms/step - loss: 1.1957 - accuracy: 0.5786 - lr: 0.0010\n",
      "Epoch 29/50\n",
      "61/61 [==============================] - ETA: 0s - loss: 1.1786 - accuracy: 0.5760\n",
      "Epoch 29: loss improved from 1.19569 to 1.17857, saving model to nextword2.h5\n",
      "61/61 [==============================] - 6s 93ms/step - loss: 1.1786 - accuracy: 0.5760 - lr: 0.0010\n",
      "Epoch 30/50\n",
      "61/61 [==============================] - ETA: 0s - loss: 1.1773 - accuracy: 0.5814\n",
      "Epoch 30: loss improved from 1.17857 to 1.17734, saving model to nextword2.h5\n",
      "61/61 [==============================] - 5s 90ms/step - loss: 1.1773 - accuracy: 0.5814 - lr: 0.0010\n",
      "Epoch 31/50\n",
      "61/61 [==============================] - ETA: 0s - loss: 1.1493 - accuracy: 0.5806\n",
      "Epoch 31: loss improved from 1.17734 to 1.14934, saving model to nextword2.h5\n",
      "61/61 [==============================] - 5s 86ms/step - loss: 1.1493 - accuracy: 0.5806 - lr: 0.0010\n",
      "Epoch 32/50\n",
      "61/61 [==============================] - ETA: 0s - loss: 1.1539 - accuracy: 0.5786\n",
      "Epoch 32: loss did not improve from 1.14934\n",
      "61/61 [==============================] - 5s 85ms/step - loss: 1.1539 - accuracy: 0.5786 - lr: 0.0010\n",
      "Epoch 33/50\n",
      "61/61 [==============================] - ETA: 0s - loss: 1.1360 - accuracy: 0.5752\n",
      "Epoch 33: loss improved from 1.14934 to 1.13602, saving model to nextword2.h5\n",
      "61/61 [==============================] - 5s 88ms/step - loss: 1.1360 - accuracy: 0.5752 - lr: 0.0010\n",
      "Epoch 34/50\n",
      "61/61 [==============================] - ETA: 0s - loss: 1.1462 - accuracy: 0.5752\n",
      "Epoch 34: loss did not improve from 1.13602\n",
      "61/61 [==============================] - 5s 85ms/step - loss: 1.1462 - accuracy: 0.5752 - lr: 0.0010\n",
      "Epoch 35/50\n",
      "61/61 [==============================] - ETA: 0s - loss: 1.1101 - accuracy: 0.5798\n",
      "Epoch 35: loss improved from 1.13602 to 1.11011, saving model to nextword2.h5\n",
      "61/61 [==============================] - 5s 86ms/step - loss: 1.1101 - accuracy: 0.5798 - lr: 0.0010\n",
      "Epoch 36/50\n",
      "61/61 [==============================] - ETA: 0s - loss: 1.1124 - accuracy: 0.5832\n",
      "Epoch 36: loss did not improve from 1.11011\n",
      "61/61 [==============================] - 5s 85ms/step - loss: 1.1124 - accuracy: 0.5832 - lr: 0.0010\n",
      "Epoch 37/50\n",
      "61/61 [==============================] - ETA: 0s - loss: 1.0958 - accuracy: 0.5773\n",
      "Epoch 37: loss improved from 1.11011 to 1.09584, saving model to nextword2.h5\n",
      "61/61 [==============================] - 5s 86ms/step - loss: 1.0958 - accuracy: 0.5773 - lr: 0.0010\n",
      "Epoch 38/50\n",
      "61/61 [==============================] - ETA: 0s - loss: 1.0949 - accuracy: 0.5847\n",
      "Epoch 38: loss improved from 1.09584 to 1.09490, saving model to nextword2.h5\n",
      "61/61 [==============================] - 6s 91ms/step - loss: 1.0949 - accuracy: 0.5847 - lr: 0.0010\n",
      "Epoch 39/50\n",
      "61/61 [==============================] - ETA: 0s - loss: 1.1011 - accuracy: 0.5832\n",
      "Epoch 39: loss did not improve from 1.09490\n",
      "61/61 [==============================] - 5s 83ms/step - loss: 1.1011 - accuracy: 0.5832 - lr: 0.0010\n",
      "Epoch 40/50\n",
      "61/61 [==============================] - ETA: 0s - loss: 1.0921 - accuracy: 0.5793\n",
      "Epoch 40: loss improved from 1.09490 to 1.09207, saving model to nextword2.h5\n",
      "61/61 [==============================] - 5s 86ms/step - loss: 1.0921 - accuracy: 0.5793 - lr: 0.0010\n",
      "Epoch 41/50\n",
      "61/61 [==============================] - ETA: 0s - loss: 1.0910 - accuracy: 0.5721\n",
      "Epoch 41: loss improved from 1.09207 to 1.09100, saving model to nextword2.h5\n",
      "61/61 [==============================] - 6s 90ms/step - loss: 1.0910 - accuracy: 0.5721 - lr: 0.0010\n",
      "Epoch 42/50\n",
      "61/61 [==============================] - ETA: 0s - loss: 1.0799 - accuracy: 0.5760\n",
      "Epoch 42: loss improved from 1.09100 to 1.07995, saving model to nextword2.h5\n",
      "61/61 [==============================] - 5s 86ms/step - loss: 1.0799 - accuracy: 0.5760 - lr: 0.0010\n",
      "Epoch 43/50\n",
      "61/61 [==============================] - ETA: 0s - loss: 1.0766 - accuracy: 0.5780\n",
      "Epoch 43: loss improved from 1.07995 to 1.07660, saving model to nextword2.h5\n",
      "61/61 [==============================] - 5s 86ms/step - loss: 1.0766 - accuracy: 0.5780 - lr: 0.0010\n",
      "Epoch 44/50\n",
      "61/61 [==============================] - ETA: 0s - loss: 1.0801 - accuracy: 0.5768\n",
      "Epoch 44: loss did not improve from 1.07660\n",
      "61/61 [==============================] - 5s 83ms/step - loss: 1.0801 - accuracy: 0.5768 - lr: 0.0010\n",
      "Epoch 45/50\n",
      "61/61 [==============================] - ETA: 0s - loss: 1.0619 - accuracy: 0.5780\n",
      "Epoch 45: loss improved from 1.07660 to 1.06186, saving model to nextword2.h5\n",
      "61/61 [==============================] - 5s 86ms/step - loss: 1.0619 - accuracy: 0.5780 - lr: 0.0010\n",
      "Epoch 46/50\n",
      "61/61 [==============================] - ETA: 0s - loss: 1.0536 - accuracy: 0.5778\n",
      "Epoch 46: loss improved from 1.06186 to 1.05365, saving model to nextword2.h5\n",
      "61/61 [==============================] - 5s 88ms/step - loss: 1.0536 - accuracy: 0.5778 - lr: 0.0010\n",
      "Epoch 47/50\n",
      "61/61 [==============================] - ETA: 0s - loss: 1.0582 - accuracy: 0.5757\n",
      "Epoch 47: loss did not improve from 1.05365\n",
      "61/61 [==============================] - 5s 85ms/step - loss: 1.0582 - accuracy: 0.5757 - lr: 0.0010\n",
      "Epoch 48/50\n",
      "61/61 [==============================] - ETA: 0s - loss: 1.0510 - accuracy: 0.5804\n",
      "Epoch 48: loss improved from 1.05365 to 1.05096, saving model to nextword2.h5\n",
      "61/61 [==============================] - 6s 90ms/step - loss: 1.0510 - accuracy: 0.5804 - lr: 0.0010\n",
      "Epoch 49/50\n",
      "61/61 [==============================] - ETA: 0s - loss: 1.0374 - accuracy: 0.5775\n",
      "Epoch 49: loss improved from 1.05096 to 1.03741, saving model to nextword2.h5\n",
      "61/61 [==============================] - 5s 86ms/step - loss: 1.0374 - accuracy: 0.5775 - lr: 0.0010\n",
      "Epoch 50/50\n",
      "61/61 [==============================] - ETA: 0s - loss: 1.0360 - accuracy: 0.5811\n",
      "Epoch 50: loss improved from 1.03741 to 1.03605, saving model to nextword2.h5\n",
      "61/61 [==============================] - 5s 83ms/step - loss: 1.0360 - accuracy: 0.5811 - lr: 0.0010\n"
     ]
    }
   ],
   "source": [
    "model=model.fit(X, y, epochs=50, batch_size=64, callbacks=[checkpoint, reduce, tensorboard_Visualization])"
   ]
  },
  {
   "cell_type": "code",
   "execution_count": 19,
   "metadata": {},
   "outputs": [
    {
     "data": {
      "image/png": "[encoded data removed]",
      "text/plain": [
       "<Figure size 432x288 with 1 Axes>"
      ]
     },
     "metadata": {
      "needs_background": "light"
     },
     "output_type": "display_data"
    }
   ],
   "source": [
    "import matplotlib.pyplot as plt\n",
    "plt.plot(model.history['accuracy'])\n",
    "plt.plot(model.history['loss'])\n",
    "plt.title('model accuracy and loss')\n",
    "plt.ylabel('accuracy and loss')\n",
    "plt.xlabel('epoch')\n",
    "plt.legend(['accuracy', 'loss'], loc='upper left')\n",
    "plt.show()"
   ]
  },
  {
   "cell_type": "code",
   "execution_count": 20,
   "metadata": {},
   "outputs": [
    {
     "name": "stdout",
     "output_type": "stream",
     "text": [
      "122/122 [==============================] - 7s 33ms/step - loss: 0.7617 - accuracy: 0.6737\n"
     ]
    },
    {
     "data": {
      "text/plain": [
       "[0.7616528272628784, 0.6736950278282166]"
      ]
     },
     "execution_count": 20,
     "metadata": {},
     "output_type": "execute_result"
    }
   ],
   "source": [
    "model.evaluate(X,y)"
   ]
  },
  {
   "cell_type": "code",
   "execution_count": 21,
   "metadata": {},
   "outputs": [],
   "source": [
    "model.save_weights(\"C:/Users/Admin/Downloads/nextword2.h5\")\n",
    "vocab_array = np.array(list(tokenizer.word_index.keys()))\n",
    "\n",
    "# Importing the Libraries\n",
    "from tensorflow.keras.models import load_model\n",
    "import numpy as np\n",
    "import pickle\n",
    "# Load the model and tokenizer\n",
    "model.load_weights(\"C:/Users/Admin/Downloads/nextword2.h5\")\n",
    "tokenizer = pickle.load(open(\"C:/Users/Admin/Downloads/tokenizer2.pkl\", 'rb'))\n",
    "def make_prediction(text, n_words):\n",
    "    for i in range(n_words):\n",
    "        text_tokenize = tokenizer.texts_to_sequences([text])\n",
    "        text_padded = tf.keras.preprocessing.sequence.pad_sequences(text_tokenize, maxlen=14)\n",
    "        prediction = np.squeeze(np.argmax(model.predict(text_padded), axis=-1))\n",
    "        prediction = str(vocab_array[prediction - 1])\n",
    "        print(vocab_array[np.argsort(model.predict(text_padded)) - 1].ravel()[:-3])\n",
    "        text += \" \" + prediction\n",
    "    return text"
   ]
  },
  {
   "cell_type": "code",
   "execution_count": 22,
   "metadata": {},
   "outputs": [
    {
     "name": "stdout",
     "output_type": "stream",
     "text": [
      "WARNING:tensorflow:Model was constructed with shape (None, 1) for input KerasTensor(type_spec=TensorSpec(shape=(None, 1), dtype=tf.float32, name='embedding_input'), name='embedding_input', description=\"created by layer 'embedding_input'\"), but it was called on an input with incompatible shape (None, 14).\n",
      "1/1 [==============================] - 3s 3s/step\n",
      "1/1 [==============================] - 0s 104ms/step\n",
      "['out' 'angry' 'refuse' ... 'sighs' 'unusual' 'kind']\n",
      "1/1 [==============================] - 0s 109ms/step\n",
      "1/1 [==============================] - 0s 112ms/step\n",
      "['investigate' 'flow' 'nightgown' ... \"she's\" 'left' 'kind']\n",
      "1/1 [==============================] - 0s 106ms/step\n",
      "1/1 [==============================] - 0s 112ms/step\n",
      "['urge' 'much' 'startlement' ... 'or' 'we' 'once']\n",
      "1/1 [==============================] - 0s 98ms/step\n",
      "1/1 [==============================] - 0s 105ms/step\n",
      "['much' 'urge' 'startlement' ... 'slide' 'once' 'usually']\n",
      "1/1 [==============================] - 0s 103ms/step\n",
      "1/1 [==============================] - 0s 108ms/step\n",
      "['much' 'extreme' 'obviously' ... 'leaves' 'stuff' 'thanks']\n"
     ]
    },
    {
     "data": {
      "text/plain": [
       "'from while stuff thanks clever kitchen'"
      ]
     },
     "execution_count": 22,
     "metadata": {},
     "output_type": "execute_result"
    }
   ],
   "source": [
    "make_prediction(\"from\",5)\n"
   ]
  }
 ],
 "metadata": {
  "colab": {
   "provenance": []
  },
  "kernelspec": {
   "display_name": "Python 3 (ipykernel)",
   "language": "python",
   "name": "python3"
  },
  "language_info": {
   "codemirror_mode": {
    "name": "ipython",
    "version": 3
   },
   "file_extension": ".py",
   "mimetype": "text/x-python",
   "name": "python",
   "nbconvert_exporter": "python",
   "pygments_lexer": "ipython3",
   "version": "3.9.13"
  }
 },
 "nbformat": 4,
 "nbformat_minor": 1
}
