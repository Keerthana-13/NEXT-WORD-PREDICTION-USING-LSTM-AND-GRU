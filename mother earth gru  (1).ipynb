{
 "cells": [
  {
   "cell_type": "markdown",
   "metadata": {
    "id": "LioOT4yFYzf5"
   },
   "source": [
    "# Next Word Prediction:\n",
    "## Mother Earth"
   ]
  },
  {
   "cell_type": "markdown",
   "metadata": {
    "id": "s2QGmzekYzf7"
   },
   "source": [
    "### Importing The Required Libraries:"
   ]
  },
  {
   "cell_type": "code",
   "execution_count": 1,
   "metadata": {
    "id": "26XRHKXmYzf8"
   },
   "outputs": [],
   "source": [
    "import tensorflow as tf\n",
    "from keras.preprocessing.text import Tokenizer\n",
    "from tensorflow.keras.layers import Embedding, LSTM,GRU,Dense\n",
    "from tensorflow.keras.models import Sequential\n",
    "from tensorflow.keras.utils import to_categorical\n",
    "from tensorflow.keras.optimizers import Adam\n",
    "import pickle\n",
    "import numpy as np\n",
    "import os"
   ]
  },
  {
   "cell_type": "code",
   "execution_count": 2,
   "metadata": {
    "colab": {
     "base_uri": "https://localhost:8080/"
    },
    "id": "ZaCy7erhYzf-",
    "outputId": "983cca34-678a-4b33-d41a-d5377a47369e"
   },
   "outputs": [
    {
     "name": "stdout",
     "output_type": "stream",
     "text": [
      "The First Line:  THE CHILD AND ITS ENEMIES.\n",
      "\n",
      "The Last Line:  \n",
      "\n"
     ]
    }
   ],
   "source": [
    "\"\"\"\n",
    "    Dataset: http://www.gutenberg.org/cache/epub/5200/pg5200.txt\n",
    "    Remove all the unnecessary data and label it as Metamorphosis-clean.\n",
    "    The starting and ending lines should be as follows.\n",
    "\n",
    "\"\"\"\n",
    "\n",
    "\n",
    "file = open(\"C:/Users/Admin/Downloads/Mother_Earth.txt\", \"r\", encoding = \"utf8\")\n",
    "lines = []\n",
    "\n",
    "for i in file:\n",
    "    lines.append(i)\n",
    "    \n",
    "print(\"The First Line: \", lines[0])\n",
    "print(\"The Last Line: \", lines[-1])"
   ]
  },
  {
   "cell_type": "markdown",
   "metadata": {
    "id": "XIK6FJzgYzgA"
   },
   "source": [
    "### Cleaning the data:"
   ]
  },
  {
   "cell_type": "code",
   "execution_count": 3,
   "metadata": {
    "colab": {
     "base_uri": "https://localhost:8080/",
     "height": 70
    },
    "id": "ftkvHWw8YzgB",
    "outputId": "d378de2b-4b9d-449c-81f9-41894b4e34a0"
   },
   "outputs": [
    {
     "data": {
      "text/plain": [
       "'THE CHILD AND ITS ENEMIES.  By EMMA GOLDMAN.   Is the child to be considered as an individuality, or as an object to be moulded according to the whims and fancies of those about it? This seems to me to be the most important question to be answered by parents and educators. And whether the child is to grow from within, whether all that craves expression will '"
      ]
     },
     "execution_count": 3,
     "metadata": {},
     "output_type": "execute_result"
    }
   ],
   "source": [
    "data = \"\"\n",
    "\n",
    "for i in lines:\n",
    "    data = ' '. join(lines)\n",
    "    \n",
    "data = data.replace('\\n', '').replace('\\r', '').replace('\\ufeff', '')\n",
    "data[:360]"
   ]
  },
  {
   "cell_type": "code",
   "execution_count": 4,
   "metadata": {
    "colab": {
     "base_uri": "https://localhost:8080/",
     "height": 88
    },
    "id": "rMWQWM_rYzgB",
    "outputId": "162d05a0-73d1-4261-f67a-8ee85c5538af"
   },
   "outputs": [
    {
     "data": {
      "text/plain": [
       "'THE CHILD AND ITS ENEMIES   By EMMA GOLDMAN    Is the child to be considered as an individuality  or as an object to be moulded according to the whims and fancies of those about it  This seems to me to be the most important question to be answered by parents and educators  And whether the child is to grow from within  whether all that craves expression will be permitted to come forth toward the light of day  or whether it is to be kneaded like dough through external forces  depends upon the prop'"
      ]
     },
     "execution_count": 4,
     "metadata": {},
     "output_type": "execute_result"
    }
   ],
   "source": [
    "import string\n",
    "\n",
    "translator = str.maketrans(string.punctuation, ' '*len(string.punctuation)) #map punctuation to space\n",
    "new_data = data.translate(translator)\n",
    "\n",
    "new_data[:500]"
   ]
  },
  {
   "cell_type": "code",
   "execution_count": 5,
   "metadata": {
    "colab": {
     "base_uri": "https://localhost:8080/",
     "height": 88
    },
    "id": "GqAWz6PWYzgC",
    "outputId": "70e36cf9-eb99-4982-e623-268cdab9797e"
   },
   "outputs": [
    {
     "data": {
      "text/plain": [
       "'THE CHILD AND ITS ENEMIES. By EMMA GOLDMAN. Is the child to be considered as an individuality, or object moulded according whims and fancies of those about it? This seems me most important question answered by parents educators. And whether is grow from within, all that craves expression will permitted come forth toward light day; it kneaded like dough through external forces, depends upon proper answer this vital question. The longing best noblest our times makes for strongest individualities. '"
      ]
     },
     "execution_count": 5,
     "metadata": {},
     "output_type": "execute_result"
    }
   ],
   "source": [
    "z = []\n",
    "\n",
    "for i in data.split():\n",
    "    if i not in z:\n",
    "        z.append(i)\n",
    "        \n",
    "data = ' '.join(z)\n",
    "data[:500]"
   ]
  },
  {
   "cell_type": "markdown",
   "metadata": {
    "id": "_yGZjCL0YzgC"
   },
   "source": [
    "### Tokenization:"
   ]
  },
  {
   "cell_type": "code",
   "execution_count": 6,
   "metadata": {
    "colab": {
     "base_uri": "https://localhost:8080/"
    },
    "id": "hE6S8DusYzgC",
    "outputId": "55f7e269-32d0-4865-d1bf-788015e26612"
   },
   "outputs": [
    {
     "data": {
      "text/plain": [
       "[5, 30, 7, 222, 449, 88, 450, 89, 31, 5]"
      ]
     },
     "execution_count": 6,
     "metadata": {},
     "output_type": "execute_result"
    }
   ],
   "source": [
    "tokenizer = Tokenizer()\n",
    "tokenizer.fit_on_texts([data])\n",
    "\n",
    "# saving the tokenizer for predict function.\n",
    "pickle.dump(tokenizer, open('tokenizer1.pkl', 'wb'))\n",
    "\n",
    "sequence_data = tokenizer.texts_to_sequences([data])[0]\n",
    "sequence_data[:10]"
   ]
  },
  {
   "cell_type": "code",
   "execution_count": 7,
   "metadata": {
    "colab": {
     "base_uri": "https://localhost:8080/"
    },
    "id": "lKcpEaPKYzgD",
    "outputId": "9835f6a7-0eb7-4166-e017-c11599fc8f00"
   },
   "outputs": [
    {
     "name": "stdout",
     "output_type": "stream",
     "text": [
      "4234\n"
     ]
    }
   ],
   "source": [
    "vocab_size = len(tokenizer.word_index) + 1\n",
    "print(vocab_size)"
   ]
  },
  {
   "cell_type": "code",
   "execution_count": 8,
   "metadata": {
    "colab": {
     "base_uri": "https://localhost:8080/"
    },
    "id": "Dv4ZNCD9YzgE",
    "outputId": "740c50c5-2142-4519-dfce-ac2002dd3315"
   },
   "outputs": [
    {
     "name": "stdout",
     "output_type": "stream",
     "text": [
      "The Length of sequences are:  6435\n"
     ]
    },
    {
     "data": {
      "text/plain": [
       "array([[  5,  30],\n",
       "       [ 30,   7],\n",
       "       [  7, 222],\n",
       "       [222, 449],\n",
       "       [449,  88],\n",
       "       [ 88, 450],\n",
       "       [450,  89],\n",
       "       [ 89,  31],\n",
       "       [ 31,   5],\n",
       "       [  5,  30]])"
      ]
     },
     "execution_count": 8,
     "metadata": {},
     "output_type": "execute_result"
    }
   ],
   "source": [
    "sequences = []\n",
    "\n",
    "for i in range(1, len(sequence_data)):\n",
    "    words = sequence_data[i-1:i+1]\n",
    "    sequences.append(words)\n",
    "    \n",
    "print(\"The Length of sequences are: \", len(sequences))\n",
    "sequences = np.array(sequences)\n",
    "sequences[:10]"
   ]
  },
  {
   "cell_type": "code",
   "execution_count": 9,
   "metadata": {
    "id": "pw4kd5phYzgF"
   },
   "outputs": [],
   "source": [
    "X = []\n",
    "y = []\n",
    "\n",
    "for i in sequences:\n",
    "    X.append(i[0])\n",
    "    y.append(i[1])\n",
    "    \n",
    "X = np.array(X)\n",
    "y = np.array(y)"
   ]
  },
  {
   "cell_type": "code",
   "execution_count": 10,
   "metadata": {
    "colab": {
     "base_uri": "https://localhost:8080/"
    },
    "id": "hg5WVVhQYzgF",
    "outputId": "3571ba03-a5dd-4113-aac7-52becb78975f"
   },
   "outputs": [
    {
     "name": "stdout",
     "output_type": "stream",
     "text": [
      "The Data is:  [  5  30   7 222 449]\n",
      "The responses are:  [ 30   7 222 449  88]\n"
     ]
    }
   ],
   "source": [
    "print(\"The Data is: \", X[:5])\n",
    "print(\"The responses are: \", y[:5])"
   ]
  },
  {
   "cell_type": "code",
   "execution_count": 11,
   "metadata": {
    "colab": {
     "base_uri": "https://localhost:8080/"
    },
    "id": "dkUuhaEjYzgG",
    "outputId": "3eaf58b9-18b4-41a0-e858-0e82a80be90f"
   },
   "outputs": [
    {
     "data": {
      "text/plain": [
       "array([[0., 0., 0., ..., 0., 0., 0.],\n",
       "       [0., 0., 0., ..., 0., 0., 0.],\n",
       "       [0., 0., 0., ..., 0., 0., 0.],\n",
       "       [0., 0., 0., ..., 0., 0., 0.],\n",
       "       [0., 0., 0., ..., 0., 0., 0.]], dtype=float32)"
      ]
     },
     "execution_count": 11,
     "metadata": {},
     "output_type": "execute_result"
    }
   ],
   "source": [
    "y = to_categorical(y, num_classes=vocab_size)\n",
    "y[:5]"
   ]
  },
  {
   "cell_type": "markdown",
   "metadata": {
    "id": "dcw1UgR3YzgG"
   },
   "source": [
    "### Creating the Model:"
   ]
  },
  {
   "cell_type": "code",
   "execution_count": 12,
   "metadata": {
    "id": "wHJIxHYIYzgH"
   },
   "outputs": [],
   "source": [
    "model = Sequential()\n",
    "model.add(Embedding(vocab_size, 10, input_length=1))\n",
    "model.add(GRU(1000, return_sequences=True))\n",
    "model.add(GRU(1000))\n",
    "model.add(Dense(1000, activation=\"tanh\"))\n",
    "model.add(Dense(vocab_size, activation=\"softmax\"))"
   ]
  },
  {
   "cell_type": "code",
   "execution_count": 13,
   "metadata": {
    "id": "mQXcNxx_YzgH",
    "outputId": "8783059b-3e77-44c4-fdad-2434a23127da",
    "scrolled": true
   },
   "outputs": [
    {
     "name": "stdout",
     "output_type": "stream",
     "text": [
      "Model: \"sequential\"\n",
      "_________________________________________________________________\n",
      " Layer (type)                Output Shape              Param #   \n",
      "=================================================================\n",
      " embedding (Embedding)       (None, 1, 10)             42340     \n",
      "                                                                 \n",
      " gru (GRU)                   (None, 1, 1000)           3036000   \n",
      "                                                                 \n",
      " gru_1 (GRU)                 (None, 1000)              6006000   \n",
      "                                                                 \n",
      " dense (Dense)               (None, 1000)              1001000   \n",
      "                                                                 \n",
      " dense_1 (Dense)             (None, 4234)              4238234   \n",
      "                                                                 \n",
      "=================================================================\n",
      "Total params: 14,323,574\n",
      "Trainable params: 14,323,574\n",
      "Non-trainable params: 0\n",
      "_________________________________________________________________\n"
     ]
    }
   ],
   "source": [
    "model.summary()"
   ]
  },
  {
   "cell_type": "code",
   "execution_count": 14,
   "metadata": {},
   "outputs": [
    {
     "name": "stdout",
     "output_type": "stream",
     "text": [
      "Requirement already satisfied: pydot in c:\\users\\admin\\anaconda3\\lib\\site-packages (1.4.2)\n",
      "Requirement already satisfied: pyparsing>=2.1.4 in c:\\users\\admin\\anaconda3\\lib\\site-packages (from pydot) (3.0.4)\n"
     ]
    }
   ],
   "source": [
    "!pip install pydot"
   ]
  },
  {
   "cell_type": "code",
   "execution_count": 15,
   "metadata": {},
   "outputs": [
    {
     "name": "stdout",
     "output_type": "stream",
     "text": [
      "Requirement already satisfied: graphviz in c:\\users\\admin\\anaconda3\\lib\\site-packages (0.20.1)\n",
      "Note: you may need to restart the kernel to use updated packages.\n"
     ]
    }
   ],
   "source": [
    "pip install graphviz"
   ]
  },
  {
   "cell_type": "markdown",
   "metadata": {
    "id": "xMpP5WicYzgH"
   },
   "source": [
    "### Plot The Model:"
   ]
  },
  {
   "cell_type": "code",
   "execution_count": 16,
   "metadata": {
    "colab": {
     "base_uri": "https://localhost:8080/",
     "height": 564
    },
    "id": "fZ7G20NJYzgH",
    "outputId": "558d2b27-7c98-4f2e-964d-8b98780ac1e0"
   },
   "outputs": [
    {
     "name": "stdout",
     "output_type": "stream",
     "text": [
      "You must install pydot (`pip install pydot`) and install graphviz (see instructions at https://graphviz.gitlab.io/download/) for plot_model to work.\n"
     ]
    }
   ],
   "source": [
    "import pydot\n",
    "import graphviz\n",
    "from tensorflow import keras\n",
    "from keras.utils.vis_utils import plot_model\n",
    "\n",
    "keras.utils.plot_model(model, to_file='model.png', show_layer_names=True)"
   ]
  },
  {
   "cell_type": "markdown",
   "metadata": {
    "id": "fiTtJ7o4YzgI"
   },
   "source": [
    "### Callbacks:"
   ]
  },
  {
   "cell_type": "code",
   "execution_count": 14,
   "metadata": {
    "id": "K4oEesXZYzgI"
   },
   "outputs": [],
   "source": [
    "from tensorflow.keras.callbacks import ModelCheckpoint\n",
    "from tensorflow.keras.callbacks import ReduceLROnPlateau\n",
    "from tensorflow.keras.callbacks import TensorBoard\n",
    "\n",
    "checkpoint = ModelCheckpoint(\"nextword1.h5\", monitor='loss', verbose=1,\n",
    "    save_best_only=True, mode='auto')\n",
    "\n",
    "reduce = ReduceLROnPlateau(monitor='loss', factor=0.2, patience=3, min_lr=0.0001, verbose = 1)\n",
    "\n",
    "logdir='logsnextword1'\n",
    "tensorboard_Visualization = TensorBoard(log_dir=logdir)"
   ]
  },
  {
   "cell_type": "markdown",
   "metadata": {
    "id": "AB8_eIn8YzgI"
   },
   "source": [
    "### Compile The Model:"
   ]
  },
  {
   "cell_type": "code",
   "execution_count": 15,
   "metadata": {
    "colab": {
     "base_uri": "https://localhost:8080/"
    },
    "id": "m-u0OU-pYzgI",
    "outputId": "ed06a38b-63d5-4494-e8e2-c82d563c2e87"
   },
   "outputs": [
    {
     "name": "stderr",
     "output_type": "stream",
     "text": [
      "C:\\Users\\Admin\\anaconda3\\lib\\site-packages\\keras\\optimizers\\optimizer_v2\\adam.py:114: UserWarning: The `lr` argument is deprecated, use `learning_rate` instead.\n",
      "  super().__init__(name, **kwargs)\n"
     ]
    }
   ],
   "source": [
    "model.compile(loss=\"categorical_crossentropy\", optimizer=Adam(lr=0.001),metrics=\"accuracy\")"
   ]
  },
  {
   "cell_type": "code",
   "execution_count": 16,
   "metadata": {},
   "outputs": [
    {
     "name": "stdout",
     "output_type": "stream",
     "text": [
      "Epoch 1/50\n",
      "101/101 [==============================] - ETA: 0s - loss: 8.3473 - accuracy: 4.6620e-04\n",
      "Epoch 1: loss improved from inf to 8.34727, saving model to nextword1.h5\n",
      "101/101 [==============================] - 18s 131ms/step - loss: 8.3473 - accuracy: 4.6620e-04 - lr: 0.0010\n",
      "Epoch 2/50\n",
      "101/101 [==============================] - ETA: 0s - loss: 8.3063 - accuracy: 0.0016\n",
      "Epoch 2: loss improved from 8.34727 to 8.30631, saving model to nextword1.h5\n",
      "101/101 [==============================] - 11s 109ms/step - loss: 8.3063 - accuracy: 0.0016 - lr: 0.0010\n",
      "Epoch 3/50\n",
      "101/101 [==============================] - ETA: 0s - loss: 8.0503 - accuracy: 0.0019\n",
      "Epoch 3: loss improved from 8.30631 to 8.05032, saving model to nextword1.h5\n",
      "101/101 [==============================] - 10s 102ms/step - loss: 8.0503 - accuracy: 0.0019 - lr: 0.0010\n",
      "Epoch 4/50\n",
      "101/101 [==============================] - ETA: 0s - loss: 7.6780 - accuracy: 0.0039\n",
      "Epoch 4: loss improved from 8.05032 to 7.67797, saving model to nextword1.h5\n",
      "101/101 [==============================] - 10s 100ms/step - loss: 7.6780 - accuracy: 0.0039 - lr: 0.0010\n",
      "Epoch 5/50\n",
      "101/101 [==============================] - ETA: 0s - loss: 7.2127 - accuracy: 0.0073\n",
      "Epoch 5: loss improved from 7.67797 to 7.21269, saving model to nextword1.h5\n",
      "101/101 [==============================] - 10s 99ms/step - loss: 7.2127 - accuracy: 0.0073 - lr: 0.0010\n",
      "Epoch 6/50\n",
      "101/101 [==============================] - ETA: 0s - loss: 6.5277 - accuracy: 0.0169\n",
      "Epoch 6: loss improved from 7.21269 to 6.52765, saving model to nextword1.h5\n",
      "101/101 [==============================] - 10s 96ms/step - loss: 6.5277 - accuracy: 0.0169 - lr: 0.0010\n",
      "Epoch 7/50\n",
      "101/101 [==============================] - ETA: 0s - loss: 5.6978 - accuracy: 0.0376\n",
      "Epoch 7: loss improved from 6.52765 to 5.69779, saving model to nextword1.h5\n",
      "101/101 [==============================] - 10s 97ms/step - loss: 5.6978 - accuracy: 0.0376 - lr: 0.0010\n",
      "Epoch 8/50\n",
      "101/101 [==============================] - ETA: 0s - loss: 4.8251 - accuracy: 0.0872\n",
      "Epoch 8: loss improved from 5.69779 to 4.82513, saving model to nextword1.h5\n",
      "101/101 [==============================] - 10s 97ms/step - loss: 4.8251 - accuracy: 0.0872 - lr: 0.0010\n",
      "Epoch 9/50\n",
      "101/101 [==============================] - ETA: 0s - loss: 3.9926 - accuracy: 0.1644\n",
      "Epoch 9: loss improved from 4.82513 to 3.99257, saving model to nextword1.h5\n",
      "101/101 [==============================] - 10s 97ms/step - loss: 3.9926 - accuracy: 0.1644 - lr: 0.0010\n",
      "Epoch 10/50\n",
      "101/101 [==============================] - ETA: 0s - loss: 3.3248 - accuracy: 0.2632\n",
      "Epoch 10: loss improved from 3.99257 to 3.32477, saving model to nextword1.h5\n",
      "101/101 [==============================] - 10s 97ms/step - loss: 3.3248 - accuracy: 0.2632 - lr: 0.0010\n",
      "Epoch 11/50\n",
      "101/101 [==============================] - ETA: 0s - loss: 2.7961 - accuracy: 0.3643\n",
      "Epoch 11: loss improved from 3.32477 to 2.79611, saving model to nextword1.h5\n",
      "101/101 [==============================] - 10s 95ms/step - loss: 2.7961 - accuracy: 0.3643 - lr: 0.0010\n",
      "Epoch 12/50\n",
      "101/101 [==============================] - ETA: 0s - loss: 2.4488 - accuracy: 0.4490\n",
      "Epoch 12: loss improved from 2.79611 to 2.44880, saving model to nextword1.h5\n",
      "101/101 [==============================] - 10s 98ms/step - loss: 2.4488 - accuracy: 0.4490 - lr: 0.0010\n",
      "Epoch 13/50\n",
      "101/101 [==============================] - ETA: 0s - loss: 2.1428 - accuracy: 0.5147\n",
      "Epoch 13: loss improved from 2.44880 to 2.14284, saving model to nextword1.h5\n",
      "101/101 [==============================] - 10s 96ms/step - loss: 2.1428 - accuracy: 0.5147 - lr: 0.0010\n",
      "Epoch 14/50\n",
      "101/101 [==============================] - ETA: 0s - loss: 1.9467 - accuracy: 0.5465\n",
      "Epoch 14: loss improved from 2.14284 to 1.94674, saving model to nextword1.h5\n",
      "101/101 [==============================] - 10s 97ms/step - loss: 1.9467 - accuracy: 0.5465 - lr: 0.0010\n",
      "Epoch 15/50\n",
      "101/101 [==============================] - ETA: 0s - loss: 1.7944 - accuracy: 0.5532\n",
      "Epoch 15: loss improved from 1.94674 to 1.79441, saving model to nextword1.h5\n",
      "101/101 [==============================] - 10s 98ms/step - loss: 1.7944 - accuracy: 0.5532 - lr: 0.0010\n",
      "Epoch 16/50\n",
      "101/101 [==============================] - ETA: 0s - loss: 1.7016 - accuracy: 0.5618\n",
      "Epoch 16: loss improved from 1.79441 to 1.70156, saving model to nextword1.h5\n",
      "101/101 [==============================] - 10s 97ms/step - loss: 1.7016 - accuracy: 0.5618 - lr: 0.0010\n",
      "Epoch 17/50\n",
      "101/101 [==============================] - ETA: 0s - loss: 1.6291 - accuracy: 0.5653\n",
      "Epoch 17: loss improved from 1.70156 to 1.62906, saving model to nextword1.h5\n",
      "101/101 [==============================] - 10s 98ms/step - loss: 1.6291 - accuracy: 0.5653 - lr: 0.0010\n",
      "Epoch 18/50\n",
      "101/101 [==============================] - ETA: 0s - loss: 1.5695 - accuracy: 0.5669\n",
      "Epoch 18: loss improved from 1.62906 to 1.56951, saving model to nextword1.h5\n",
      "101/101 [==============================] - 10s 98ms/step - loss: 1.5695 - accuracy: 0.5669 - lr: 0.0010\n",
      "Epoch 19/50\n",
      "101/101 [==============================] - ETA: 0s - loss: 1.5432 - accuracy: 0.5681\n",
      "Epoch 19: loss improved from 1.56951 to 1.54320, saving model to nextword1.h5\n",
      "101/101 [==============================] - 10s 97ms/step - loss: 1.5432 - accuracy: 0.5681 - lr: 0.0010\n",
      "Epoch 20/50\n",
      "101/101 [==============================] - ETA: 0s - loss: 1.5088 - accuracy: 0.5646\n",
      "Epoch 20: loss improved from 1.54320 to 1.50877, saving model to nextword1.h5\n",
      "101/101 [==============================] - 10s 100ms/step - loss: 1.5088 - accuracy: 0.5646 - lr: 0.0010\n",
      "Epoch 21/50\n",
      "101/101 [==============================] - ETA: 0s - loss: 1.4862 - accuracy: 0.5624\n",
      "Epoch 21: loss improved from 1.50877 to 1.48624, saving model to nextword1.h5\n",
      "101/101 [==============================] - 10s 98ms/step - loss: 1.4862 - accuracy: 0.5624 - lr: 0.0010\n",
      "Epoch 22/50\n",
      "101/101 [==============================] - ETA: 0s - loss: 1.4439 - accuracy: 0.5719\n",
      "Epoch 22: loss improved from 1.48624 to 1.44390, saving model to nextword1.h5\n",
      "101/101 [==============================] - 10s 97ms/step - loss: 1.4439 - accuracy: 0.5719 - lr: 0.0010\n",
      "Epoch 23/50\n",
      "101/101 [==============================] - ETA: 0s - loss: 1.4242 - accuracy: 0.5689\n",
      "Epoch 23: loss improved from 1.44390 to 1.42418, saving model to nextword1.h5\n",
      "101/101 [==============================] - 10s 98ms/step - loss: 1.4242 - accuracy: 0.5689 - lr: 0.0010\n",
      "Epoch 24/50\n",
      "101/101 [==============================] - ETA: 0s - loss: 1.4055 - accuracy: 0.5722\n",
      "Epoch 24: loss improved from 1.42418 to 1.40548, saving model to nextword1.h5\n",
      "101/101 [==============================] - 10s 98ms/step - loss: 1.4055 - accuracy: 0.5722 - lr: 0.0010\n",
      "Epoch 25/50\n",
      "101/101 [==============================] - ETA: 0s - loss: 1.4057 - accuracy: 0.5660\n",
      "Epoch 25: loss did not improve from 1.40548\n",
      "101/101 [==============================] - 10s 96ms/step - loss: 1.4057 - accuracy: 0.5660 - lr: 0.0010\n",
      "Epoch 26/50\n",
      "101/101 [==============================] - ETA: 0s - loss: 1.3841 - accuracy: 0.5677\n",
      "Epoch 26: loss improved from 1.40548 to 1.38407, saving model to nextword1.h5\n",
      "101/101 [==============================] - 10s 98ms/step - loss: 1.3841 - accuracy: 0.5677 - lr: 0.0010\n",
      "Epoch 27/50\n",
      "101/101 [==============================] - ETA: 0s - loss: 1.3477 - accuracy: 0.5726\n",
      "Epoch 27: loss improved from 1.38407 to 1.34769, saving model to nextword1.h5\n",
      "101/101 [==============================] - 10s 99ms/step - loss: 1.3477 - accuracy: 0.5726 - lr: 0.0010\n",
      "Epoch 28/50\n",
      "101/101 [==============================] - ETA: 0s - loss: 1.3371 - accuracy: 0.5675\n",
      "Epoch 28: loss improved from 1.34769 to 1.33706, saving model to nextword1.h5\n",
      "101/101 [==============================] - 10s 101ms/step - loss: 1.3371 - accuracy: 0.5675 - lr: 0.0010\n",
      "Epoch 29/50\n",
      "101/101 [==============================] - ETA: 0s - loss: 1.3217 - accuracy: 0.5714\n",
      "Epoch 29: loss improved from 1.33706 to 1.32171, saving model to nextword1.h5\n",
      "101/101 [==============================] - 10s 98ms/step - loss: 1.3217 - accuracy: 0.5714 - lr: 0.0010\n",
      "Epoch 30/50\n",
      "101/101 [==============================] - ETA: 0s - loss: 1.3120 - accuracy: 0.5730\n",
      "Epoch 30: loss improved from 1.32171 to 1.31203, saving model to nextword1.h5\n",
      "101/101 [==============================] - 10s 98ms/step - loss: 1.3120 - accuracy: 0.5730 - lr: 0.0010\n",
      "Epoch 31/50\n",
      "101/101 [==============================] - ETA: 0s - loss: 1.3062 - accuracy: 0.5694\n",
      "Epoch 31: loss improved from 1.31203 to 1.30617, saving model to nextword1.h5\n",
      "101/101 [==============================] - 10s 97ms/step - loss: 1.3062 - accuracy: 0.5694 - lr: 0.0010\n",
      "Epoch 32/50\n",
      "101/101 [==============================] - ETA: 0s - loss: 1.2850 - accuracy: 0.5717\n",
      "Epoch 32: loss improved from 1.30617 to 1.28504, saving model to nextword1.h5\n",
      "101/101 [==============================] - 10s 97ms/step - loss: 1.2850 - accuracy: 0.5717 - lr: 0.0010\n",
      "Epoch 33/50\n",
      "101/101 [==============================] - ETA: 0s - loss: 1.2860 - accuracy: 0.5669\n",
      "Epoch 33: loss did not improve from 1.28504\n",
      "101/101 [==============================] - 10s 95ms/step - loss: 1.2860 - accuracy: 0.5669 - lr: 0.0010\n",
      "Epoch 34/50\n",
      "101/101 [==============================] - ETA: 0s - loss: 1.2622 - accuracy: 0.5680\n",
      "Epoch 34: loss improved from 1.28504 to 1.26225, saving model to nextword1.h5\n",
      "101/101 [==============================] - 10s 98ms/step - loss: 1.2622 - accuracy: 0.5680 - lr: 0.0010\n",
      "Epoch 35/50\n",
      "101/101 [==============================] - ETA: 0s - loss: 1.2680 - accuracy: 0.5685\n",
      "Epoch 35: loss did not improve from 1.26225\n",
      "101/101 [==============================] - 10s 95ms/step - loss: 1.2680 - accuracy: 0.5685 - lr: 0.0010\n",
      "Epoch 36/50\n",
      "101/101 [==============================] - ETA: 0s - loss: 1.2535 - accuracy: 0.5734\n",
      "Epoch 36: loss improved from 1.26225 to 1.25348, saving model to nextword1.h5\n",
      "101/101 [==============================] - 10s 96ms/step - loss: 1.2535 - accuracy: 0.5734 - lr: 0.0010\n",
      "Epoch 37/50\n",
      "101/101 [==============================] - ETA: 0s - loss: 1.2491 - accuracy: 0.5697\n",
      "Epoch 37: loss improved from 1.25348 to 1.24910, saving model to nextword1.h5\n",
      "101/101 [==============================] - 9s 94ms/step - loss: 1.2491 - accuracy: 0.5697 - lr: 0.0010\n",
      "Epoch 38/50\n",
      "101/101 [==============================] - ETA: 0s - loss: 1.2355 - accuracy: 0.5725\n",
      "Epoch 38: loss improved from 1.24910 to 1.23552, saving model to nextword1.h5\n",
      "101/101 [==============================] - 10s 94ms/step - loss: 1.2355 - accuracy: 0.5725 - lr: 0.0010\n",
      "Epoch 39/50\n",
      "101/101 [==============================] - ETA: 0s - loss: 1.2189 - accuracy: 0.5726\n",
      "Epoch 39: loss improved from 1.23552 to 1.21887, saving model to nextword1.h5\n",
      "101/101 [==============================] - 10s 93ms/step - loss: 1.2189 - accuracy: 0.5726 - lr: 0.0010\n",
      "Epoch 40/50\n",
      "101/101 [==============================] - ETA: 0s - loss: 1.2162 - accuracy: 0.5739\n",
      "Epoch 40: loss improved from 1.21887 to 1.21624, saving model to nextword1.h5\n",
      "101/101 [==============================] - 10s 93ms/step - loss: 1.2162 - accuracy: 0.5739 - lr: 0.0010\n",
      "Epoch 41/50\n",
      "101/101 [==============================] - ETA: 0s - loss: 1.2166 - accuracy: 0.5655\n",
      "Epoch 41: loss did not improve from 1.21624\n",
      "101/101 [==============================] - 9s 91ms/step - loss: 1.2166 - accuracy: 0.5655 - lr: 0.0010\n",
      "Epoch 42/50\n",
      "101/101 [==============================] - ETA: 0s - loss: 1.2032 - accuracy: 0.5739\n",
      "Epoch 42: loss improved from 1.21624 to 1.20319, saving model to nextword1.h5\n",
      "101/101 [==============================] - 10s 96ms/step - loss: 1.2032 - accuracy: 0.5739 - lr: 0.0010\n",
      "Epoch 43/50\n",
      "101/101 [==============================] - ETA: 0s - loss: 1.2070 - accuracy: 0.5672\n",
      "Epoch 43: loss did not improve from 1.20319\n",
      "101/101 [==============================] - 9s 91ms/step - loss: 1.2070 - accuracy: 0.5672 - lr: 0.0010\n",
      "Epoch 44/50\n",
      "101/101 [==============================] - ETA: 0s - loss: 1.1860 - accuracy: 0.5725\n",
      "Epoch 44: loss improved from 1.20319 to 1.18598, saving model to nextword1.h5\n",
      "101/101 [==============================] - 9s 93ms/step - loss: 1.1860 - accuracy: 0.5725 - lr: 0.0010\n",
      "Epoch 45/50\n",
      "101/101 [==============================] - ETA: 0s - loss: 1.1927 - accuracy: 0.5699\n",
      "Epoch 45: loss did not improve from 1.18598\n",
      "101/101 [==============================] - 10s 95ms/step - loss: 1.1927 - accuracy: 0.5699 - lr: 0.0010\n",
      "Epoch 46/50\n",
      "101/101 [==============================] - ETA: 0s - loss: 1.1796 - accuracy: 0.5726\n",
      "Epoch 46: loss improved from 1.18598 to 1.17955, saving model to nextword1.h5\n",
      "101/101 [==============================] - 9s 93ms/step - loss: 1.1796 - accuracy: 0.5726 - lr: 0.0010\n",
      "Epoch 47/50\n",
      "101/101 [==============================] - ETA: 0s - loss: 1.1801 - accuracy: 0.5681\n",
      "Epoch 47: loss did not improve from 1.17955\n",
      "101/101 [==============================] - 9s 91ms/step - loss: 1.1801 - accuracy: 0.5681 - lr: 0.0010\n",
      "Epoch 48/50\n",
      "101/101 [==============================] - ETA: 0s - loss: 1.1669 - accuracy: 0.5680\n",
      "Epoch 48: loss improved from 1.17955 to 1.16694, saving model to nextword1.h5\n",
      "101/101 [==============================] - 10s 95ms/step - loss: 1.1669 - accuracy: 0.5680 - lr: 0.0010\n",
      "Epoch 49/50\n",
      "101/101 [==============================] - ETA: 0s - loss: 1.1634 - accuracy: 0.5725\n",
      "Epoch 49: loss improved from 1.16694 to 1.16340, saving model to nextword1.h5\n",
      "101/101 [==============================] - 10s 93ms/step - loss: 1.1634 - accuracy: 0.5725 - lr: 0.0010\n",
      "Epoch 50/50\n",
      "101/101 [==============================] - ETA: 0s - loss: 1.1636 - accuracy: 0.5652\n",
      "Epoch 50: loss did not improve from 1.16340\n",
      "101/101 [==============================] - 9s 91ms/step - loss: 1.1636 - accuracy: 0.5652 - lr: 0.0010\n"
     ]
    }
   ],
   "source": [
    "model=model.fit(X, y, epochs=50, batch_size=64, callbacks=[checkpoint, reduce, tensorboard_Visualization])"
   ]
  },
  {
   "cell_type": "code",
   "execution_count": 17,
   "metadata": {},
   "outputs": [
    {
     "data": {
      "image/png": "[encoded data removed]",
      "text/plain": [
       "<Figure size 432x288 with 1 Axes>"
      ]
     },
     "metadata": {
      "needs_background": "light"
     },
     "output_type": "display_data"
    }
   ],
   "source": [
    "import matplotlib.pyplot as plt\n",
    "plt.plot(model.history['accuracy'])\n",
    "plt.plot(model.history['loss'])\n",
    "plt.title('model accuracy and loss')\n",
    "plt.ylabel('accuracy and loss')\n",
    "plt.xlabel('epoch')\n",
    "plt.legend(['accuracy', 'loss'], loc='upper left')\n",
    "plt.show()"
   ]
  },
  {
   "cell_type": "code",
   "execution_count": 20,
   "metadata": {},
   "outputs": [
    {
     "name": "stdout",
     "output_type": "stream",
     "text": [
      "202/202 [==============================] - 5s 21ms/step - loss: 0.8668 - accuracy: 0.6628\n"
     ]
    },
    {
     "data": {
      "text/plain": [
       "[0.8667892813682556, 0.6627816557884216]"
      ]
     },
     "execution_count": 20,
     "metadata": {},
     "output_type": "execute_result"
    }
   ],
   "source": [
    "model.evaluate(X,y)"
   ]
  },
  {
   "cell_type": "code",
   "execution_count": 22,
   "metadata": {},
   "outputs": [],
   "source": [
    "model.save_weights(\"C:/Users/Admin/Downloads/nextword1.h5\")\n",
    "vocab_array = np.array(list(tokenizer.word_index.keys()))\n",
    "\n",
    "# Importing the Libraries\n",
    "from tensorflow.keras.models import load_model\n",
    "import numpy as np\n",
    "import pickle\n",
    "# Load the model and tokenizer\n",
    "model.load_weights(\"C:/Users/Admin/Downloads/nextword1.h5\")\n",
    "tokenizer = pickle.load(open(\"C:/Users/Admin/Downloads/tokenizer1.pkl\", 'rb'))\n",
    "def make_prediction(text, n_words):\n",
    "    for i in range(n_words):\n",
    "        text_tokenize = tokenizer.texts_to_sequences([text])\n",
    "        text_padded = tf.keras.preprocessing.sequence.pad_sequences(text_tokenize, maxlen=14)\n",
    "        prediction = np.squeeze(np.argmax(model.predict(text_padded), axis=-1))\n",
    "        prediction = str(vocab_array[prediction - 1])\n",
    "        print(vocab_array[np.argsort(model.predict(text_padded)) - 1].ravel()[:-3])\n",
    "        text += \" \" + prediction\n",
    "    return text"
   ]
  },
  {
   "cell_type": "code",
   "execution_count": 23,
   "metadata": {},
   "outputs": [
    {
     "name": "stdout",
     "output_type": "stream",
     "text": [
      "WARNING:tensorflow:Model was constructed with shape (None, 1) for input KerasTensor(type_spec=TensorSpec(shape=(None, 1), dtype=tf.float32, name='embedding_input'), name='embedding_input', description=\"created by layer 'embedding_input'\"), but it was called on an input with incompatible shape (None, 14).\n",
      "1/1 [==============================] - 1s 723ms/step\n",
      "1/1 [==============================] - 0s 56ms/step\n",
      "['bavaria' 'search' 'shocking' ... 'hopeless' 'bad' 'gates']\n",
      "1/1 [==============================] - 0s 54ms/step\n",
      "1/1 [==============================] - 0s 48ms/step\n",
      "['bavaria' 'shocking' 'search' ... 'gates' 'hopeless' 'lost']\n",
      "1/1 [==============================] - 0s 48ms/step\n",
      "1/1 [==============================] - 0s 56ms/step\n",
      "['shocking' 'bavaria' 'polyandry' ... 'can' 'least' 'lost']\n",
      "1/1 [==============================] - 0s 72ms/step\n",
      "1/1 [==============================] - 0s 64ms/step\n",
      "['shocking' 'bavaria' 'conforming' ... 'well' 'can' 'must']\n",
      "1/1 [==============================] - 0s 67ms/step\n",
      "1/1 [==============================] - 0s 48ms/step\n",
      "['your' 'conforming' 'shocking' ... 'why' 'existence' 'lost']\n"
     ]
    },
    {
     "data": {
      "text/plain": [
       "'child door must must least least'"
      ]
     },
     "execution_count": 23,
     "metadata": {},
     "output_type": "execute_result"
    }
   ],
   "source": [
    "make_prediction(\"child\",5)\n"
   ]
  }
 ],
 "metadata": {
  "colab": {
   "provenance": []
  },
  "kernelspec": {
   "display_name": "Python 3 (ipykernel)",
   "language": "python",
   "name": "python3"
  },
  "language_info": {
   "codemirror_mode": {
    "name": "ipython",
    "version": 3
   },
   "file_extension": ".py",
   "mimetype": "text/x-python",
   "name": "python",
   "nbconvert_exporter": "python",
   "pygments_lexer": "ipython3",
   "version": "3.9.13"
  }
 },
 "nbformat": 4,
 "nbformat_minor": 1
}
