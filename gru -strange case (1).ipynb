{
 "cells": [
  {
   "cell_type": "markdown",
   "metadata": {
    "id": "LioOT4yFYzf5"
   },
   "source": [
    "# Next Word Prediction:\n",
    "## Strange Case"
   ]
  },
  {
   "cell_type": "markdown",
   "metadata": {
    "id": "s2QGmzekYzf7"
   },
   "source": [
    "### Importing The Required Libraries:"
   ]
  },
  {
   "cell_type": "code",
   "execution_count": 2,
   "metadata": {
    "id": "26XRHKXmYzf8"
   },
   "outputs": [],
   "source": [
    "import tensorflow as tf\n",
    "from keras.preprocessing.text import Tokenizer\n",
    "from tensorflow.keras.layers import Embedding, LSTM, GRU, Dense\n",
    "from tensorflow.keras.models import Sequential\n",
    "from tensorflow.keras.utils import to_categorical\n",
    "from tensorflow.keras.optimizers import Adam\n",
    "import pickle\n",
    "import numpy as np\n",
    "import os"
   ]
  },
  {
   "cell_type": "code",
   "execution_count": 3,
   "metadata": {
    "colab": {
     "base_uri": "https://localhost:8080/"
    },
    "id": "ZaCy7erhYzf-",
    "outputId": "983cca34-678a-4b33-d41a-d5377a47369e"
   },
   "outputs": [
    {
     "name": "stdout",
     "output_type": "stream",
     "text": [
      "The First Line:  STORY OF THE DOOR\n",
      "\n",
      "The Last Line:  \n",
      "\n"
     ]
    }
   ],
   "source": [
    "\"\"\"\n",
    "    Dataset: http://www.gutenberg.org/cache/epub/5200/pg5200.txt\n",
    "    Remove all the unnecessary data and label it as Metamorphosis-clean.\n",
    "    The starting and ending lines should be as follows.\n",
    "\n",
    "\"\"\"\n",
    "\n",
    "\n",
    "file = open(\"C:/Users/Admin/Downloads/The_Strange_Case_of_Dr. Jekyll_and_ Mr. Hy _by_Robert_Louis_Stevenson.txt\", \"r\", encoding = \"utf8\")\n",
    "lines = []\n",
    "\n",
    "for i in file:\n",
    "    lines.append(i)\n",
    "    \n",
    "print(\"The First Line: \", lines[0])\n",
    "print(\"The Last Line: \", lines[-1])"
   ]
  },
  {
   "cell_type": "markdown",
   "metadata": {
    "id": "XIK6FJzgYzgA"
   },
   "source": [
    "### Cleaning the data:"
   ]
  },
  {
   "cell_type": "code",
   "execution_count": 4,
   "metadata": {
    "colab": {
     "base_uri": "https://localhost:8080/",
     "height": 70
    },
    "id": "ftkvHWw8YzgB",
    "outputId": "d378de2b-4b9d-449c-81f9-41894b4e34a0"
   },
   "outputs": [
    {
     "data": {
      "text/plain": [
       "'STORY OF THE DOOR  Mr. Utterson the lawyer was a man of a rugged countenance that was never lighted by a smile; cold, scanty and embarrassed in discourse; backward in sentiment; lean, long, dusty, dreary and yet somehow lovable. At friendly meetings, and when the wine was to his taste, something eminently human beaconed from his eye; something indeed which n'"
      ]
     },
     "execution_count": 4,
     "metadata": {},
     "output_type": "execute_result"
    }
   ],
   "source": [
    "data = \"\"\n",
    "\n",
    "for i in lines:\n",
    "    data = ' '. join(lines)\n",
    "    \n",
    "data = data.replace('\\n', '').replace('\\r', '').replace('\\ufeff', '')\n",
    "data[:360]"
   ]
  },
  {
   "cell_type": "code",
   "execution_count": 5,
   "metadata": {
    "colab": {
     "base_uri": "https://localhost:8080/",
     "height": 88
    },
    "id": "rMWQWM_rYzgB",
    "outputId": "162d05a0-73d1-4261-f67a-8ee85c5538af"
   },
   "outputs": [
    {
     "data": {
      "text/plain": [
       "'STORY OF THE DOOR  Mr  Utterson the lawyer was a man of a rugged countenance that was never lighted by a smile  cold  scanty and embarrassed in discourse  backward in sentiment  lean  long  dusty  dreary and yet somehow lovable  At friendly meetings  and when the wine was to his taste  something eminently human beaconed from his eye  something indeed which never found its way into his talk  but which spoke not only in these silent symbols of the after dinner face  but more often and loudly in th'"
      ]
     },
     "execution_count": 5,
     "metadata": {},
     "output_type": "execute_result"
    }
   ],
   "source": [
    "import string\n",
    "\n",
    "translator = str.maketrans(string.punctuation, ' '*len(string.punctuation)) #map punctuation to space\n",
    "new_data = data.translate(translator)\n",
    "\n",
    "new_data[:500]"
   ]
  },
  {
   "cell_type": "code",
   "execution_count": 6,
   "metadata": {
    "colab": {
     "base_uri": "https://localhost:8080/",
     "height": 88
    },
    "id": "GqAWz6PWYzgC",
    "outputId": "70e36cf9-eb99-4982-e623-268cdab9797e"
   },
   "outputs": [
    {
     "data": {
      "text/plain": [
       "'STORY OF THE DOOR Mr. Utterson the lawyer was a man of rugged countenance that never lighted by smile; cold, scanty and embarrassed in discourse; backward sentiment; lean, long, dusty, dreary yet somehow lovable. At friendly meetings, when wine to his taste, something eminently human beaconed from eye; indeed which found its way into talk, but spoke not only these silent symbols after-dinner face, more often loudly acts life. He austere with himself; drank gin he alone, mortify taste for vintage'"
      ]
     },
     "execution_count": 6,
     "metadata": {},
     "output_type": "execute_result"
    }
   ],
   "source": [
    "z = []\n",
    "\n",
    "for i in data.split():\n",
    "    if i not in z:\n",
    "        z.append(i)\n",
    "        \n",
    "data = ' '.join(z)\n",
    "data[:500]"
   ]
  },
  {
   "cell_type": "markdown",
   "metadata": {
    "id": "_yGZjCL0YzgC"
   },
   "source": [
    "### Tokenization:"
   ]
  },
  {
   "cell_type": "code",
   "execution_count": 7,
   "metadata": {
    "colab": {
     "base_uri": "https://localhost:8080/"
    },
    "id": "hE6S8DusYzgC",
    "outputId": "55f7e269-32d0-4865-d1bf-788015e26612"
   },
   "outputs": [
    {
     "data": {
      "text/plain": [
       "[64, 39, 65, 12, 419, 5, 65, 108, 109, 420]"
      ]
     },
     "execution_count": 7,
     "metadata": {},
     "output_type": "execute_result"
    }
   ],
   "source": [
    "tokenizer = Tokenizer()\n",
    "tokenizer.fit_on_texts([data])\n",
    "\n",
    "# saving the tokenizer for predict function.\n",
    "pickle.dump(tokenizer, open('tokenizer1.pkl', 'wb'))\n",
    "\n",
    "sequence_data = tokenizer.texts_to_sequences([data])[0]\n",
    "sequence_data[:10]"
   ]
  },
  {
   "cell_type": "code",
   "execution_count": 8,
   "metadata": {
    "colab": {
     "base_uri": "https://localhost:8080/"
    },
    "id": "lKcpEaPKYzgD",
    "outputId": "9835f6a7-0eb7-4166-e017-c11599fc8f00"
   },
   "outputs": [
    {
     "name": "stdout",
     "output_type": "stream",
     "text": [
      "4152\n"
     ]
    }
   ],
   "source": [
    "vocab_size = len(tokenizer.word_index) + 1\n",
    "print(vocab_size)"
   ]
  },
  {
   "cell_type": "code",
   "execution_count": 9,
   "metadata": {
    "colab": {
     "base_uri": "https://localhost:8080/"
    },
    "id": "Dv4ZNCD9YzgE",
    "outputId": "740c50c5-2142-4519-dfce-ac2002dd3315"
   },
   "outputs": [
    {
     "name": "stdout",
     "output_type": "stream",
     "text": [
      "The Length of sequences are:  6439\n"
     ]
    },
    {
     "data": {
      "text/plain": [
       "array([[ 64,  39],\n",
       "       [ 39,  65],\n",
       "       [ 65,  12],\n",
       "       [ 12, 419],\n",
       "       [419,   5],\n",
       "       [  5,  65],\n",
       "       [ 65, 108],\n",
       "       [108, 109],\n",
       "       [109, 420],\n",
       "       [420,  29]])"
      ]
     },
     "execution_count": 9,
     "metadata": {},
     "output_type": "execute_result"
    }
   ],
   "source": [
    "sequences = []\n",
    "\n",
    "for i in range(1, len(sequence_data)):\n",
    "    words = sequence_data[i-1:i+1]\n",
    "    sequences.append(words)\n",
    "    \n",
    "print(\"The Length of sequences are: \", len(sequences))\n",
    "sequences = np.array(sequences)\n",
    "sequences[:10]"
   ]
  },
  {
   "cell_type": "code",
   "execution_count": 10,
   "metadata": {
    "id": "pw4kd5phYzgF"
   },
   "outputs": [],
   "source": [
    "X = []\n",
    "y = []\n",
    "\n",
    "for i in sequences:\n",
    "    X.append(i[0])\n",
    "    y.append(i[1])\n",
    "    \n",
    "X = np.array(X)\n",
    "y = np.array(y)"
   ]
  },
  {
   "cell_type": "code",
   "execution_count": 11,
   "metadata": {
    "colab": {
     "base_uri": "https://localhost:8080/"
    },
    "id": "hg5WVVhQYzgF",
    "outputId": "3571ba03-a5dd-4113-aac7-52becb78975f"
   },
   "outputs": [
    {
     "name": "stdout",
     "output_type": "stream",
     "text": [
      "The Data is:  [ 64  39  65  12 419]\n",
      "The responses are:  [ 39  65  12 419   5]\n"
     ]
    }
   ],
   "source": [
    "print(\"The Data is: \", X[:5])\n",
    "print(\"The responses are: \", y[:5])"
   ]
  },
  {
   "cell_type": "code",
   "execution_count": 12,
   "metadata": {
    "colab": {
     "base_uri": "https://localhost:8080/"
    },
    "id": "dkUuhaEjYzgG",
    "outputId": "3eaf58b9-18b4-41a0-e858-0e82a80be90f"
   },
   "outputs": [
    {
     "data": {
      "text/plain": [
       "array([[0., 0., 0., ..., 0., 0., 0.],\n",
       "       [0., 0., 0., ..., 0., 0., 0.],\n",
       "       [0., 0., 0., ..., 0., 0., 0.],\n",
       "       [0., 0., 0., ..., 0., 0., 0.],\n",
       "       [0., 0., 0., ..., 0., 0., 0.]], dtype=float32)"
      ]
     },
     "execution_count": 12,
     "metadata": {},
     "output_type": "execute_result"
    }
   ],
   "source": [
    "y = to_categorical(y, num_classes=vocab_size)\n",
    "y[:5]"
   ]
  },
  {
   "cell_type": "markdown",
   "metadata": {
    "id": "dcw1UgR3YzgG"
   },
   "source": [
    "### Creating the Model:"
   ]
  },
  {
   "cell_type": "code",
   "execution_count": 13,
   "metadata": {
    "id": "wHJIxHYIYzgH"
   },
   "outputs": [],
   "source": [
    "model = Sequential()\n",
    "model.add(Embedding(vocab_size, 10, input_length=1))\n",
    "model.add(GRU(1000, return_sequences=True))\n",
    "model.add(GRU(1000))\n",
    "model.add(Dense(1000, activation=\"tanh\"))\n",
    "model.add(Dense(vocab_size, activation=\"softmax\"))"
   ]
  },
  {
   "cell_type": "code",
   "execution_count": 14,
   "metadata": {
    "id": "mQXcNxx_YzgH",
    "outputId": "8783059b-3e77-44c4-fdad-2434a23127da"
   },
   "outputs": [
    {
     "name": "stdout",
     "output_type": "stream",
     "text": [
      "Model: \"sequential\"\n",
      "_________________________________________________________________\n",
      " Layer (type)                Output Shape              Param #   \n",
      "=================================================================\n",
      " embedding (Embedding)       (None, 1, 10)             41520     \n",
      "                                                                 \n",
      " gru (GRU)                   (None, 1, 1000)           3036000   \n",
      "                                                                 \n",
      " gru_1 (GRU)                 (None, 1000)              6006000   \n",
      "                                                                 \n",
      " dense (Dense)               (None, 1000)              1001000   \n",
      "                                                                 \n",
      " dense_1 (Dense)             (None, 4152)              4156152   \n",
      "                                                                 \n",
      "=================================================================\n",
      "Total params: 14,240,672\n",
      "Trainable params: 14,240,672\n",
      "Non-trainable params: 0\n",
      "_________________________________________________________________\n"
     ]
    }
   ],
   "source": [
    "model.summary()"
   ]
  },
  {
   "cell_type": "markdown",
   "metadata": {
    "id": "fiTtJ7o4YzgI"
   },
   "source": [
    "### Callbacks:"
   ]
  },
  {
   "cell_type": "code",
   "execution_count": 15,
   "metadata": {
    "id": "K4oEesXZYzgI"
   },
   "outputs": [],
   "source": [
    "from tensorflow.keras.callbacks import ModelCheckpoint\n",
    "from tensorflow.keras.callbacks import ReduceLROnPlateau\n",
    "from tensorflow.keras.callbacks import TensorBoard\n",
    "\n",
    "checkpoint = ModelCheckpoint(\"nextword1.h5\", monitor='loss', verbose=1,\n",
    "    save_best_only=True, mode='auto')\n",
    "\n",
    "reduce = ReduceLROnPlateau(monitor='loss', factor=0.2, patience=3, min_lr=0.0001, verbose = 1)\n",
    "\n",
    "logdir='logsnextword1'\n",
    "tensorboard_Visualization = TensorBoard(log_dir=logdir)"
   ]
  },
  {
   "cell_type": "markdown",
   "metadata": {
    "id": "AB8_eIn8YzgI"
   },
   "source": [
    "### Compile The Model:"
   ]
  },
  {
   "cell_type": "code",
   "execution_count": 16,
   "metadata": {
    "colab": {
     "base_uri": "https://localhost:8080/"
    },
    "id": "m-u0OU-pYzgI",
    "outputId": "ed06a38b-63d5-4494-e8e2-c82d563c2e87",
    "scrolled": true
   },
   "outputs": [
    {
     "name": "stderr",
     "output_type": "stream",
     "text": [
      "C:\\Users\\Admin\\anaconda3\\lib\\site-packages\\keras\\optimizers\\optimizer_v2\\adam.py:114: UserWarning: The `lr` argument is deprecated, use `learning_rate` instead.\n",
      "  super().__init__(name, **kwargs)\n"
     ]
    }
   ],
   "source": [
    "model.compile(loss='categorical_crossentropy', optimizer=Adam(lr=0.001),metrics=\"accuracy\")"
   ]
  },
  {
   "cell_type": "markdown",
   "metadata": {
    "id": "LhD7eoITYzgJ"
   },
   "source": [
    "### Fit The Model:"
   ]
  },
  {
   "cell_type": "code",
   "execution_count": 17,
   "metadata": {
    "colab": {
     "base_uri": "https://localhost:8080/"
    },
    "id": "ZNKjMMHYYzgJ",
    "outputId": "8cd4ade8-ea4c-4441-cc0f-e8fbf9a60730"
   },
   "outputs": [
    {
     "name": "stdout",
     "output_type": "stream",
     "text": [
      "Epoch 1/50\n",
      "101/101 [==============================] - ETA: 0s - loss: 8.3190 - accuracy: 0.0374\n",
      "Epoch 1: loss improved from inf to 8.31902, saving model to nextword1.h5\n",
      "101/101 [==============================] - 23s 158ms/step - loss: 8.3190 - accuracy: 0.0374 - lr: 0.0010\n",
      "Epoch 2/50\n",
      "101/101 [==============================] - ETA: 0s - loss: 8.1627 - accuracy: 0.0436\n",
      "Epoch 2: loss improved from 8.31902 to 8.16274, saving model to nextword1.h5\n",
      "101/101 [==============================] - 12s 119ms/step - loss: 8.1627 - accuracy: 0.0436 - lr: 0.0010\n",
      "Epoch 3/50\n",
      "101/101 [==============================] - ETA: 0s - loss: 7.8561 - accuracy: 0.0467\n",
      "Epoch 3: loss improved from 8.16274 to 7.85610, saving model to nextword1.h5\n",
      "101/101 [==============================] - 12s 114ms/step - loss: 7.8561 - accuracy: 0.0467 - lr: 0.0010\n",
      "Epoch 4/50\n",
      "101/101 [==============================] - ETA: 0s - loss: 7.5431 - accuracy: 0.0469\n",
      "Epoch 4: loss improved from 7.85610 to 7.54308, saving model to nextword1.h5\n",
      "101/101 [==============================] - 12s 121ms/step - loss: 7.5431 - accuracy: 0.0469 - lr: 0.0010\n",
      "Epoch 5/50\n",
      "101/101 [==============================] - ETA: 0s - loss: 7.2412 - accuracy: 0.0472\n",
      "Epoch 5: loss improved from 7.54308 to 7.24119, saving model to nextword1.h5\n",
      "101/101 [==============================] - 12s 120ms/step - loss: 7.2412 - accuracy: 0.0472 - lr: 0.0010\n",
      "Epoch 6/50\n",
      "101/101 [==============================] - ETA: 0s - loss: 6.8803 - accuracy: 0.0472\n",
      "Epoch 6: loss improved from 7.24119 to 6.88032, saving model to nextword1.h5\n",
      "101/101 [==============================] - 12s 117ms/step - loss: 6.8803 - accuracy: 0.0472 - lr: 0.0010\n",
      "Epoch 7/50\n",
      "101/101 [==============================] - ETA: 0s - loss: 6.4349 - accuracy: 0.0499\n",
      "Epoch 7: loss improved from 6.88032 to 6.43489, saving model to nextword1.h5\n",
      "101/101 [==============================] - 12s 118ms/step - loss: 6.4349 - accuracy: 0.0499 - lr: 0.0010\n",
      "Epoch 8/50\n",
      "101/101 [==============================] - ETA: 0s - loss: 5.8971 - accuracy: 0.0592\n",
      "Epoch 8: loss improved from 6.43489 to 5.89708, saving model to nextword1.h5\n",
      "101/101 [==============================] - 11s 111ms/step - loss: 5.8971 - accuracy: 0.0592 - lr: 0.0010\n",
      "Epoch 9/50\n",
      "101/101 [==============================] - ETA: 0s - loss: 5.3674 - accuracy: 0.0704\n",
      "Epoch 9: loss improved from 5.89708 to 5.36737, saving model to nextword1.h5\n",
      "101/101 [==============================] - 11s 111ms/step - loss: 5.3674 - accuracy: 0.0704 - lr: 0.0010\n",
      "Epoch 10/50\n",
      "101/101 [==============================] - ETA: 0s - loss: 4.8248 - accuracy: 0.1023\n",
      "Epoch 10: loss improved from 5.36737 to 4.82477, saving model to nextword1.h5\n",
      "101/101 [==============================] - 11s 112ms/step - loss: 4.8248 - accuracy: 0.1023 - lr: 0.0010\n",
      "Epoch 11/50\n",
      "101/101 [==============================] - ETA: 0s - loss: 4.1905 - accuracy: 0.1511\n",
      "Epoch 11: loss improved from 4.82477 to 4.19047, saving model to nextword1.h5\n",
      "101/101 [==============================] - 11s 110ms/step - loss: 4.1905 - accuracy: 0.1511 - lr: 0.0010\n",
      "Epoch 12/50\n",
      "101/101 [==============================] - ETA: 0s - loss: 3.5958 - accuracy: 0.2125\n",
      "Epoch 12: loss improved from 4.19047 to 3.59582, saving model to nextword1.h5\n",
      "101/101 [==============================] - 12s 115ms/step - loss: 3.5958 - accuracy: 0.2125 - lr: 0.0010\n",
      "Epoch 13/50\n",
      "101/101 [==============================] - ETA: 0s - loss: 3.0931 - accuracy: 0.2952\n",
      "Epoch 13: loss improved from 3.59582 to 3.09312, saving model to nextword1.h5\n",
      "101/101 [==============================] - 13s 128ms/step - loss: 3.0931 - accuracy: 0.2952 - lr: 0.0010\n",
      "Epoch 14/50\n",
      "101/101 [==============================] - ETA: 0s - loss: 2.6462 - accuracy: 0.3982\n",
      "Epoch 14: loss improved from 3.09312 to 2.64617, saving model to nextword1.h5\n",
      "101/101 [==============================] - 12s 115ms/step - loss: 2.6462 - accuracy: 0.3982 - lr: 0.0010\n",
      "Epoch 15/50\n",
      "101/101 [==============================] - ETA: 0s - loss: 2.3407 - accuracy: 0.4790\n",
      "Epoch 15: loss improved from 2.64617 to 2.34066, saving model to nextword1.h5\n",
      "101/101 [==============================] - 11s 112ms/step - loss: 2.3407 - accuracy: 0.4790 - lr: 0.0010\n",
      "Epoch 16/50\n",
      "101/101 [==============================] - ETA: 0s - loss: 2.0852 - accuracy: 0.5257\n",
      "Epoch 16: loss improved from 2.34066 to 2.08517, saving model to nextword1.h5\n",
      "101/101 [==============================] - 11s 110ms/step - loss: 2.0852 - accuracy: 0.5257 - lr: 0.0010\n",
      "Epoch 17/50\n",
      "101/101 [==============================] - ETA: 0s - loss: 1.9067 - accuracy: 0.5446\n",
      "Epoch 17: loss improved from 2.08517 to 1.90666, saving model to nextword1.h5\n",
      "101/101 [==============================] - 12s 115ms/step - loss: 1.9067 - accuracy: 0.5446 - lr: 0.0010\n",
      "Epoch 18/50\n",
      "101/101 [==============================] - ETA: 0s - loss: 1.8063 - accuracy: 0.5563\n",
      "Epoch 18: loss improved from 1.90666 to 1.80634, saving model to nextword1.h5\n",
      "101/101 [==============================] - 12s 116ms/step - loss: 1.8063 - accuracy: 0.5563 - lr: 0.0010\n",
      "Epoch 19/50\n",
      "101/101 [==============================] - ETA: 0s - loss: 1.7287 - accuracy: 0.5617\n",
      "Epoch 19: loss improved from 1.80634 to 1.72870, saving model to nextword1.h5\n",
      "101/101 [==============================] - 14s 133ms/step - loss: 1.7287 - accuracy: 0.5617 - lr: 0.0010\n",
      "Epoch 20/50\n",
      "101/101 [==============================] - ETA: 0s - loss: 1.6704 - accuracy: 0.5614\n",
      "Epoch 20: loss improved from 1.72870 to 1.67038, saving model to nextword1.h5\n",
      "101/101 [==============================] - 11s 112ms/step - loss: 1.6704 - accuracy: 0.5614 - lr: 0.0010\n",
      "Epoch 21/50\n",
      "101/101 [==============================] - ETA: 0s - loss: 1.6397 - accuracy: 0.5619\n",
      "Epoch 21: loss improved from 1.67038 to 1.63972, saving model to nextword1.h5\n",
      "101/101 [==============================] - 12s 115ms/step - loss: 1.6397 - accuracy: 0.5619 - lr: 0.0010\n",
      "Epoch 22/50\n",
      "101/101 [==============================] - ETA: 0s - loss: 1.6061 - accuracy: 0.5592\n",
      "Epoch 22: loss improved from 1.63972 to 1.60611, saving model to nextword1.h5\n",
      "101/101 [==============================] - 13s 125ms/step - loss: 1.6061 - accuracy: 0.5592 - lr: 0.0010\n",
      "Epoch 23/50\n",
      "101/101 [==============================] - ETA: 0s - loss: 1.5670 - accuracy: 0.5644\n",
      "Epoch 23: loss improved from 1.60611 to 1.56695, saving model to nextword1.h5\n",
      "101/101 [==============================] - 12s 121ms/step - loss: 1.5670 - accuracy: 0.5644 - lr: 0.0010\n",
      "Epoch 24/50\n",
      "101/101 [==============================] - ETA: 0s - loss: 1.5287 - accuracy: 0.5631\n",
      "Epoch 24: loss improved from 1.56695 to 1.52868, saving model to nextword1.h5\n",
      "101/101 [==============================] - 12s 122ms/step - loss: 1.5287 - accuracy: 0.5631 - lr: 0.0010\n",
      "Epoch 25/50\n",
      "101/101 [==============================] - ETA: 0s - loss: 1.5125 - accuracy: 0.5650\n",
      "Epoch 25: loss improved from 1.52868 to 1.51251, saving model to nextword1.h5\n",
      "101/101 [==============================] - 12s 116ms/step - loss: 1.5125 - accuracy: 0.5650 - lr: 0.0010\n",
      "Epoch 26/50\n",
      "101/101 [==============================] - ETA: 0s - loss: 1.5124 - accuracy: 0.5627\n",
      "Epoch 26: loss improved from 1.51251 to 1.51239, saving model to nextword1.h5\n",
      "101/101 [==============================] - 12s 120ms/step - loss: 1.5124 - accuracy: 0.5627 - lr: 0.0010\n",
      "Epoch 27/50\n",
      "101/101 [==============================] - ETA: 0s - loss: 1.4876 - accuracy: 0.5650\n",
      "Epoch 27: loss improved from 1.51239 to 1.48755, saving model to nextword1.h5\n",
      "101/101 [==============================] - 12s 117ms/step - loss: 1.4876 - accuracy: 0.5650 - lr: 0.0010\n",
      "Epoch 28/50\n",
      "101/101 [==============================] - ETA: 0s - loss: 1.4746 - accuracy: 0.5630\n",
      "Epoch 28: loss improved from 1.48755 to 1.47458, saving model to nextword1.h5\n",
      "101/101 [==============================] - 11s 107ms/step - loss: 1.4746 - accuracy: 0.5630 - lr: 0.0010\n",
      "Epoch 29/50\n",
      "101/101 [==============================] - ETA: 0s - loss: 1.4513 - accuracy: 0.5630\n",
      "Epoch 29: loss improved from 1.47458 to 1.45129, saving model to nextword1.h5\n",
      "101/101 [==============================] - 11s 110ms/step - loss: 1.4513 - accuracy: 0.5630 - lr: 0.0010\n",
      "Epoch 30/50\n",
      "101/101 [==============================] - ETA: 0s - loss: 1.4354 - accuracy: 0.5641\n",
      "Epoch 30: loss improved from 1.45129 to 1.43541, saving model to nextword1.h5\n",
      "101/101 [==============================] - 12s 115ms/step - loss: 1.4354 - accuracy: 0.5641 - lr: 0.0010\n",
      "Epoch 31/50\n",
      "101/101 [==============================] - ETA: 0s - loss: 1.4213 - accuracy: 0.5653\n",
      "Epoch 31: loss improved from 1.43541 to 1.42133, saving model to nextword1.h5\n",
      "101/101 [==============================] - 11s 112ms/step - loss: 1.4213 - accuracy: 0.5653 - lr: 0.0010\n",
      "Epoch 32/50\n",
      "101/101 [==============================] - ETA: 0s - loss: 1.4198 - accuracy: 0.5664\n",
      "Epoch 32: loss improved from 1.42133 to 1.41980, saving model to nextword1.h5\n",
      "101/101 [==============================] - 11s 111ms/step - loss: 1.4198 - accuracy: 0.5664 - lr: 0.0010\n",
      "Epoch 33/50\n",
      "101/101 [==============================] - ETA: 0s - loss: 1.4067 - accuracy: 0.5644\n",
      "Epoch 33: loss improved from 1.41980 to 1.40667, saving model to nextword1.h5\n",
      "101/101 [==============================] - 11s 110ms/step - loss: 1.4067 - accuracy: 0.5644 - lr: 0.0010\n",
      "Epoch 34/50\n",
      "101/101 [==============================] - ETA: 0s - loss: 1.3871 - accuracy: 0.5656\n",
      "Epoch 34: loss improved from 1.40667 to 1.38706, saving model to nextword1.h5\n",
      "101/101 [==============================] - 11s 110ms/step - loss: 1.3871 - accuracy: 0.5656 - lr: 0.0010\n",
      "Epoch 35/50\n",
      "101/101 [==============================] - ETA: 0s - loss: 1.3830 - accuracy: 0.5678\n",
      "Epoch 35: loss improved from 1.38706 to 1.38295, saving model to nextword1.h5\n",
      "101/101 [==============================] - 11s 106ms/step - loss: 1.3830 - accuracy: 0.5678 - lr: 0.0010\n",
      "Epoch 36/50\n",
      "101/101 [==============================] - ETA: 0s - loss: 1.3764 - accuracy: 0.5695\n",
      "Epoch 36: loss improved from 1.38295 to 1.37635, saving model to nextword1.h5\n",
      "101/101 [==============================] - 11s 110ms/step - loss: 1.3764 - accuracy: 0.5695 - lr: 0.0010\n",
      "Epoch 37/50\n",
      "101/101 [==============================] - ETA: 0s - loss: 1.3557 - accuracy: 0.5684\n",
      "Epoch 37: loss improved from 1.37635 to 1.35568, saving model to nextword1.h5\n",
      "101/101 [==============================] - 11s 110ms/step - loss: 1.3557 - accuracy: 0.5684 - lr: 0.0010\n",
      "Epoch 38/50\n",
      "101/101 [==============================] - ETA: 0s - loss: 1.3579 - accuracy: 0.5675\n",
      "Epoch 38: loss did not improve from 1.35568\n",
      "101/101 [==============================] - 10s 103ms/step - loss: 1.3579 - accuracy: 0.5675 - lr: 0.0010\n",
      "Epoch 39/50\n",
      "101/101 [==============================] - ETA: 0s - loss: 1.3531 - accuracy: 0.5659\n",
      "Epoch 39: loss improved from 1.35568 to 1.35310, saving model to nextword1.h5\n",
      "101/101 [==============================] - 11s 105ms/step - loss: 1.3531 - accuracy: 0.5659 - lr: 0.0010\n",
      "Epoch 40/50\n",
      "101/101 [==============================] - ETA: 0s - loss: 1.3541 - accuracy: 0.5641\n",
      "Epoch 40: loss did not improve from 1.35310\n",
      "101/101 [==============================] - 11s 105ms/step - loss: 1.3541 - accuracy: 0.5641 - lr: 0.0010\n",
      "Epoch 41/50\n",
      "101/101 [==============================] - ETA: 0s - loss: 1.3390 - accuracy: 0.5673\n",
      "Epoch 41: loss improved from 1.35310 to 1.33902, saving model to nextword1.h5\n",
      "101/101 [==============================] - 11s 114ms/step - loss: 1.3390 - accuracy: 0.5673 - lr: 0.0010\n",
      "Epoch 42/50\n",
      "101/101 [==============================] - ETA: 0s - loss: 1.3347 - accuracy: 0.5647\n",
      "Epoch 42: loss improved from 1.33902 to 1.33474, saving model to nextword1.h5\n",
      "101/101 [==============================] - 11s 112ms/step - loss: 1.3347 - accuracy: 0.5647 - lr: 0.0010\n",
      "Epoch 43/50\n",
      "101/101 [==============================] - ETA: 0s - loss: 1.3243 - accuracy: 0.5645\n",
      "Epoch 43: loss improved from 1.33474 to 1.32433, saving model to nextword1.h5\n",
      "101/101 [==============================] - 10s 100ms/step - loss: 1.3243 - accuracy: 0.5645 - lr: 0.0010\n",
      "Epoch 44/50\n",
      "101/101 [==============================] - ETA: 0s - loss: 1.3113 - accuracy: 0.5667\n",
      "Epoch 44: loss improved from 1.32433 to 1.31129, saving model to nextword1.h5\n",
      "101/101 [==============================] - 12s 119ms/step - loss: 1.3113 - accuracy: 0.5667 - lr: 0.0010\n",
      "Epoch 45/50\n",
      "101/101 [==============================] - ETA: 0s - loss: 1.3103 - accuracy: 0.5658\n",
      "Epoch 45: loss improved from 1.31129 to 1.31033, saving model to nextword1.h5\n",
      "101/101 [==============================] - 10s 99ms/step - loss: 1.3103 - accuracy: 0.5658 - lr: 0.0010\n",
      "Epoch 46/50\n",
      "101/101 [==============================] - ETA: 0s - loss: 1.2996 - accuracy: 0.5662\n",
      "Epoch 46: loss improved from 1.31033 to 1.29958, saving model to nextword1.h5\n",
      "101/101 [==============================] - 10s 102ms/step - loss: 1.2996 - accuracy: 0.5662 - lr: 0.0010\n",
      "Epoch 47/50\n",
      "101/101 [==============================] - ETA: 0s - loss: 1.3003 - accuracy: 0.5662\n",
      "Epoch 47: loss did not improve from 1.29958\n",
      "101/101 [==============================] - 10s 97ms/step - loss: 1.3003 - accuracy: 0.5662 - lr: 0.0010\n",
      "Epoch 48/50\n",
      "101/101 [==============================] - ETA: 0s - loss: 1.2938 - accuracy: 0.5695\n",
      "Epoch 48: loss improved from 1.29958 to 1.29379, saving model to nextword1.h5\n",
      "101/101 [==============================] - 10s 102ms/step - loss: 1.2938 - accuracy: 0.5695 - lr: 0.0010\n",
      "Epoch 49/50\n",
      "101/101 [==============================] - ETA: 0s - loss: 1.2933 - accuracy: 0.5672\n",
      "Epoch 49: loss improved from 1.29379 to 1.29333, saving model to nextword1.h5\n",
      "101/101 [==============================] - 10s 100ms/step - loss: 1.2933 - accuracy: 0.5672 - lr: 0.0010\n",
      "Epoch 50/50\n",
      "101/101 [==============================] - ETA: 0s - loss: 1.2884 - accuracy: 0.5653\n",
      "Epoch 50: loss improved from 1.29333 to 1.28835, saving model to nextword1.h5\n",
      "101/101 [==============================] - 10s 103ms/step - loss: 1.2884 - accuracy: 0.5653 - lr: 0.0010\n"
     ]
    }
   ],
   "source": [
    "model=model.fit(X, y, epochs=50, batch_size=64, callbacks=[checkpoint, reduce, tensorboard_Visualization])"
   ]
  },
  {
   "cell_type": "code",
   "execution_count": 21,
   "metadata": {},
   "outputs": [
    {
     "data": {
      "image/png": "[encoded data removed]",
      "text/plain": [
       "<Figure size 432x288 with 1 Axes>"
      ]
     },
     "metadata": {
      "needs_background": "light"
     },
     "output_type": "display_data"
    }
   ],
   "source": [
    "import matplotlib.pyplot as plt\n",
    "plt.plot(model.history['accuracy'])\n",
    "plt.plot(model.history['loss'])\n",
    "plt.title('model accuracy and loss')\n",
    "plt.ylabel('accuracy and loss')\n",
    "plt.xlabel('epoch')\n",
    "plt.legend(['accuracy', 'loss'], loc='upper left')\n",
    "plt.show()"
   ]
  },
  {
   "cell_type": "code",
   "execution_count": 17,
   "metadata": {},
   "outputs": [
    {
     "name": "stdout",
     "output_type": "stream",
     "text": [
      "202/202 [==============================] - 5s 21ms/step - loss: 1.0062 - accuracy: 0.6544\n"
     ]
    },
    {
     "data": {
      "text/plain": [
       "[1.0062423944473267, 0.654449462890625]"
      ]
     },
     "execution_count": 17,
     "metadata": {},
     "output_type": "execute_result"
    }
   ],
   "source": [
    "model.evaluate(X,y)"
   ]
  },
  {
   "cell_type": "code",
   "execution_count": 19,
   "metadata": {},
   "outputs": [],
   "source": [
    "model.save_weights(\"C:/Users/Admin/Downloads/nextword2.h5\")\n",
    "vocab_array = np.array(list(tokenizer.word_index.keys()))\n",
    "\n",
    "# Importing the Libraries\n",
    "from tensorflow.keras.models import load_model\n",
    "import numpy as np\n",
    "import pickle\n",
    "# Load the model and tokenizer\n",
    "model.load_weights(\"C:/Users/Admin/Downloads/nextword1.h5\")\n",
    "tokenizer = pickle.load(open(\"C:/Users/Admin/Downloads/tokenizer1.pkl\", 'rb'))\n",
    "def make_prediction(text, n_words):\n",
    "    for i in range(n_words):\n",
    "        text_tokenize = tokenizer.texts_to_sequences([text])\n",
    "        text_padded = tf.keras.preprocessing.sequence.pad_sequences(text_tokenize, maxlen=14)\n",
    "        prediction = np.squeeze(np.argmax(model.predict(text_padded), axis=-1))\n",
    "        prediction = str(vocab_array[prediction - 1])\n",
    "        print(vocab_array[np.argsort(model.predict(text_padded)) - 1].ravel()[:-3])\n",
    "        text += \" \" + prediction\n",
    "    return text"
   ]
  },
  {
   "cell_type": "code",
   "execution_count": 20,
   "metadata": {},
   "outputs": [
    {
     "name": "stdout",
     "output_type": "stream",
     "text": [
      "WARNING:tensorflow:Model was constructed with shape (None, 1) for input KerasTensor(type_spec=TensorSpec(shape=(None, 1), dtype=tf.float32, name='embedding_input'), name='embedding_input', description=\"created by layer 'embedding_input'\"), but it was called on an input with incompatible shape (None, 14).\n",
      "1/1 [==============================] - 1s 847ms/step\n",
      "1/1 [==============================] - 0s 60ms/step\n",
      "['shock' 'delirium' 'me—something' ... 'pedant' 'fit' 'pleasant']\n",
      "1/1 [==============================] - 0s 79ms/step\n",
      "1/1 [==============================] - 0s 42ms/step\n",
      "['neat' 'shock' 'me—something' ... 'pleasant' 'attendants' 'fit']\n",
      "1/1 [==============================] - 0s 37ms/step\n",
      "1/1 [==============================] - 0s 58ms/step\n",
      "['shock' 'neat' 'me—something' ... 'been' 'fit' 'pleasant']\n",
      "1/1 [==============================] - 0s 60ms/step\n",
      "1/1 [==============================] - 0s 44ms/step\n",
      "['against' 'shock' 'neat' ... 'volume' 'been' 'pleasant']\n",
      "1/1 [==============================] - 0s 47ms/step\n",
      "1/1 [==============================] - 0s 43ms/step\n",
      "['against' 'shock' 'oration' ... 'looked' 'volume' 'forest']\n"
     ]
    },
    {
     "data": {
      "text/plain": [
       "'door moment door door door door'"
      ]
     },
     "execution_count": 20,
     "metadata": {},
     "output_type": "execute_result"
    }
   ],
   "source": [
    "make_prediction(\"door\",5)\n"
   ]
  }
 ],
 "metadata": {
  "colab": {
   "provenance": []
  },
  "kernelspec": {
   "display_name": "Python 3 (ipykernel)",
   "language": "python",
   "name": "python3"
  },
  "language_info": {
   "codemirror_mode": {
    "name": "ipython",
    "version": 3
   },
   "file_extension": ".py",
   "mimetype": "text/x-python",
   "name": "python",
   "nbconvert_exporter": "python",
   "pygments_lexer": "ipython3",
   "version": "3.9.13"
  }
 },
 "nbformat": 4,
 "nbformat_minor": 1
}
